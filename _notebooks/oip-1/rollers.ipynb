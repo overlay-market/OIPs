{
 "cells": [
  {
   "cell_type": "code",
   "execution_count": 66,
   "metadata": {},
   "outputs": [],
   "source": [
    "import numpy as np\n",
    "import pandas as pd\n",
    "import matplotlib.pyplot as plt\n",
    "from matplotlib.widgets import Slider, Button"
   ]
  },
  {
   "cell_type": "markdown",
   "metadata": {},
   "source": [
    "## Check rollers accomplishes desired functionality of memory with decay"
   ]
  },
  {
   "cell_type": "code",
   "execution_count": 2,
   "metadata": {},
   "outputs": [],
   "source": [
    "def decay_value(value_last: float, timestamp_last: float, window_last: float, now: float) -> float:\n",
    "    dt = now - timestamp_last\n",
    "    if (dt >= window_last or window_last == 0):\n",
    "        return 0\n",
    "    \n",
    "    value_last -= (value_last * dt) / window_last\n",
    "    return value_last"
   ]
  },
  {
   "cell_type": "code",
   "execution_count": 3,
   "metadata": {},
   "outputs": [
    {
     "data": {
      "text/plain": [
       "True"
      ]
     },
     "execution_count": 3,
     "metadata": {},
     "output_type": "execute_result"
    }
   ],
   "source": [
    "# has gone 30% the way through window\n",
    "decay_value(1, 1600, 1600, 2080) == 0.7"
   ]
  },
  {
   "cell_type": "code",
   "execution_count": 4,
   "metadata": {},
   "outputs": [
    {
     "data": {
      "text/plain": [
       "True"
      ]
     },
     "execution_count": 4,
     "metadata": {},
     "output_type": "execute_result"
    }
   ],
   "source": [
    "# has gone 87.5% the way through window\n",
    "decay_value(1, 1600, 1600, 3000) == 0.125"
   ]
  },
  {
   "cell_type": "code",
   "execution_count": 5,
   "metadata": {},
   "outputs": [
    {
     "data": {
      "text/plain": [
       "True"
      ]
     },
     "execution_count": 5,
     "metadata": {},
     "output_type": "execute_result"
    }
   ],
   "source": [
    "# has gone 100% the way through window\n",
    "decay_value(1, 1600, 1600, 3200) == 0"
   ]
  },
  {
   "cell_type": "code",
   "execution_count": 13,
   "metadata": {},
   "outputs": [],
   "source": [
    "def decay_over_window(value_last: float, timestamp_last: float, window_last: float,\n",
    "                      value: float, now: float, window: float) -> (float, float):\n",
    "    # value now is value last decayed plus new value\n",
    "    value_last = decay_value(value_last, timestamp_last, window_last, now)\n",
    "    value_now = value_last + value\n",
    "    \n",
    "    # window now is weighted average of last window and new window\n",
    "    # with weights as values being decayed in each respective window\n",
    "    numerator = value_last * (window_last - (now - timestamp_last)) + value * window\n",
    "    denominator = value_now\n",
    "    window_now = numerator / denominator\n",
    "    \n",
    "    return value_now, window_now"
   ]
  },
  {
   "cell_type": "code",
   "execution_count": 16,
   "metadata": {},
   "outputs": [
    {
     "data": {
      "text/plain": [
       "True"
      ]
     },
     "execution_count": 16,
     "metadata": {},
     "output_type": "execute_result"
    }
   ],
   "source": [
    "# should reduce to the 30% the way through window case\n",
    "decay_over_window(1, 1600, 1600, 0, 2080, 1600) == (0.7, 1600 * 0.7)"
   ]
  },
  {
   "cell_type": "code",
   "execution_count": 28,
   "metadata": {},
   "outputs": [
    {
     "data": {
      "text/plain": [
       "True"
      ]
     },
     "execution_count": 28,
     "metadata": {},
     "output_type": "execute_result"
    }
   ],
   "source": [
    "# should change to account for new value coming into 30% case\n",
    "decay_over_window(1, 1600, 1600, 0.5, 2080, 1600) == (1.2, (0.5 * 1600 + 0.7 * 1600 * 0.7) / 1.2)"
   ]
  },
  {
   "cell_type": "code",
   "execution_count": 169,
   "metadata": {},
   "outputs": [],
   "source": [
    "# Plot value decay over time\n",
    "window = 1\n",
    "\n",
    "value = 1\n",
    "timestamp = 1.2\n",
    "now = 1.6\n",
    "\n",
    "ts = np.arange(now, now*2, 0.001)"
   ]
  },
  {
   "cell_type": "code",
   "execution_count": 170,
   "metadata": {},
   "outputs": [
    {
     "data": {
      "text/plain": [
       "array([0.6  , 0.599, 0.598, ..., 0.   , 0.   , 0.   ])"
      ]
     },
     "execution_count": 170,
     "metadata": {},
     "output_type": "execute_result"
    }
   ],
   "source": [
    "decayed_vals = np.array([ decay_value(value, timestamp, window, t) for t in ts ])\n",
    "decayed_vals"
   ]
  },
  {
   "cell_type": "code",
   "execution_count": 171,
   "metadata": {},
   "outputs": [
    {
     "data": {
      "text/plain": [
       "Text(0, 0.5, 'value')"
      ]
     },
     "execution_count": 171,
     "metadata": {},
     "output_type": "execute_result"
    },
    {
     "data": {
      "image/png": "[encoded data removed]",
      "text/plain": [
       "<Figure size 432x288 with 1 Axes>"
      ]
     },
     "metadata": {
      "needs_background": "light"
     },
     "output_type": "display_data"
    }
   ],
   "source": [
    "plt.plot(ts, decayed_vals, c='k')\n",
    "\n",
    "plt.xlabel('time')\n",
    "plt.ylabel('value')"
   ]
  },
  {
   "cell_type": "markdown",
   "metadata": {},
   "source": [
    "## And now with memory of a prior value decaying over time"
   ]
  },
  {
   "cell_type": "code",
   "execution_count": 200,
   "metadata": {},
   "outputs": [
    {
     "name": "stdout",
     "output_type": "stream",
     "text": [
      "window 1\n",
      "(now - timestamp)/window 0.40000000000000013\n"
     ]
    },
    {
     "data": {
      "text/plain": [
       "array([0.85      , 0.84881557, 0.84763115, ..., 0.        , 0.        ,\n",
       "       0.        ])"
      ]
     },
     "execution_count": 200,
     "metadata": {},
     "output_type": "execute_result"
    }
   ],
   "source": [
    "pv = 0.25\n",
    "pw = 1.0\n",
    "\n",
    "print('window', window)\n",
    "print('(now - timestamp)/window', (now-timestamp)/window)\n",
    "\n",
    "decayed_vals_w_memory = np.array([ decay_value(decay_over_window(value, timestamp, window, value*pv, now, window*pw)[0], now, decay_over_window(value, timestamp, window, value*pv, now, window*pw)[1], t) for t in ts ])\n",
    "decayed_vals_w_memory"
   ]
  },
  {
   "cell_type": "code",
   "execution_count": 201,
   "metadata": {},
   "outputs": [
    {
     "data": {
      "text/plain": [
       "array([0.71764706, 0.71764706, 0.71764706, ..., 0.71764706, 0.71764706,\n",
       "       0.71764706])"
      ]
     },
     "execution_count": 201,
     "metadata": {},
     "output_type": "execute_result"
    }
   ],
   "source": [
    "decayed_windows_w_memory = np.array([ decay_over_window(value, timestamp, window, value*pv, now, window*pw)[1] for t in ts ])\n",
    "decayed_windows_w_memory"
   ]
  },
  {
   "cell_type": "code",
   "execution_count": 202,
   "metadata": {},
   "outputs": [
    {
     "data": {
      "text/plain": [
       "Text(0, 0.5, 'value')"
      ]
     },
     "execution_count": 202,
     "metadata": {},
     "output_type": "execute_result"
    },
    {
     "data": {
      "image/png": "[encoded data removed]",
      "text/plain": [
       "<Figure size 432x288 with 1 Axes>"
      ]
     },
     "metadata": {
      "needs_background": "light"
     },
     "output_type": "display_data"
    }
   ],
   "source": [
    "plt.plot(ts, decayed_vals, c='k')\n",
    "plt.plot(ts, decayed_vals_w_memory, c='b')\n",
    "\n",
    "plt.xlabel('time')\n",
    "plt.ylabel('value')"
   ]
  },
  {
   "cell_type": "code",
   "execution_count": 203,
   "metadata": {},
   "outputs": [
    {
     "data": {
      "text/plain": [
       "Text(0, 0.5, 'time')"
      ]
     },
     "execution_count": 203,
     "metadata": {},
     "output_type": "execute_result"
    },
    {
     "data": {
      "image/png": "[encoded data removed]",
      "text/plain": [
       "<Figure size 432x288 with 1 Axes>"
      ]
     },
     "metadata": {
      "needs_background": "light"
     },
     "output_type": "display_data"
    }
   ],
   "source": [
    "plt.plot(ts, decayed_windows_w_memory, c='r')\n",
    "\n",
    "plt.xlabel('time')\n",
    "plt.ylabel('time')"
   ]
  },
  {
   "cell_type": "code",
   "execution_count": 64,
   "metadata": {},
   "outputs": [],
   "source": [
    "# higher the value of the new decay, the more weight given to future window over which to decay it"
   ]
  },
  {
   "cell_type": "code",
   "execution_count": null,
   "metadata": {},
   "outputs": [],
   "source": []
  },
  {
   "cell_type": "code",
   "execution_count": null,
   "metadata": {},
   "outputs": [],
   "source": []
  }
 ],
 "metadata": {
  "kernelspec": {
   "display_name": "Python 3",
   "language": "python",
   "name": "python3"
  },
  "language_info": {
   "codemirror_mode": {
    "name": "ipython",
    "version": 3
   },
   "file_extension": ".py",
   "mimetype": "text/x-python",
   "name": "python",
   "nbconvert_exporter": "python",
   "pygments_lexer": "ipython3",
   "version": "3.7.4"
  }
 },
 "nbformat": 4,
 "nbformat_minor": 2
}
