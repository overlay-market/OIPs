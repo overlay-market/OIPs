{
 "cells": [
  {
   "cell_type": "code",
   "execution_count": 1,
   "metadata": {},
   "outputs": [],
   "source": [
    "import numpy as np\n",
    "import pandas as pd\n",
    "import matplotlib.pyplot as plt"
   ]
  },
  {
   "cell_type": "code",
   "execution_count": 2,
   "metadata": {},
   "outputs": [],
   "source": [
    "def oi_imb(t, k, oi_imb_0):\n",
    "    return oi_imb_0 * np.exp(-2*k*t)"
   ]
  },
  {
   "cell_type": "code",
   "execution_count": 3,
   "metadata": {},
   "outputs": [
    {
     "data": {
      "text/plain": [
       "True"
      ]
     },
     "execution_count": 3,
     "metadata": {},
     "output_type": "execute_result"
    }
   ],
   "source": [
    "oi_imb(1, 1, 1) == np.exp(-2)"
   ]
  },
  {
   "cell_type": "code",
   "execution_count": 4,
   "metadata": {},
   "outputs": [],
   "source": [
    "def oi(t, k, oi_imb_0, oi_0):\n",
    "    radical = 1 - (oi_imb_0 / oi_0)**2 * (1 - np.exp(-4*k*t))\n",
    "    return oi_0 * np.sqrt(radical)"
   ]
  },
  {
   "cell_type": "code",
   "execution_count": 5,
   "metadata": {},
   "outputs": [
    {
     "data": {
      "text/plain": [
       "True"
      ]
     },
     "execution_count": 5,
     "metadata": {},
     "output_type": "execute_result"
    }
   ],
   "source": [
    "oi(1, 1, 1/2, 1) == np.sqrt( 1 - (1/4) * (1 - np.exp(-4)) )"
   ]
  },
  {
   "cell_type": "code",
   "execution_count": 6,
   "metadata": {},
   "outputs": [],
   "source": [
    "def oi_b(t, k, oi_imb_0, oi_0):\n",
    "    return oi_0 - oi(t, k, oi_imb_0, oi_0)"
   ]
  },
  {
   "cell_type": "code",
   "execution_count": 7,
   "metadata": {},
   "outputs": [
    {
     "data": {
      "text/plain": [
       "True"
      ]
     },
     "execution_count": 7,
     "metadata": {},
     "output_type": "execute_result"
    }
   ],
   "source": [
    "oi_b(1, 1, 1/2, 1) == 1 - np.sqrt( 1 - (1/4) * (1 - np.exp(-4)) )"
   ]
  },
  {
   "cell_type": "code",
   "execution_count": 8,
   "metadata": {},
   "outputs": [],
   "source": [
    "# funding rate\n",
    "def f_l(t, k, oi_imb_0, oi_0):\n",
    "    return 2 * k * oi_imb(t, k, oi_imb_0) / oi(t, k, oi_imb_0, oi_0)"
   ]
  },
  {
   "cell_type": "code",
   "execution_count": 9,
   "metadata": {},
   "outputs": [
    {
     "data": {
      "text/plain": [
       "True"
      ]
     },
     "execution_count": 9,
     "metadata": {},
     "output_type": "execute_result"
    }
   ],
   "source": [
    "f_l(0, 1, 1/2, 1) == 1.0"
   ]
  },
  {
   "cell_type": "code",
   "execution_count": 10,
   "metadata": {},
   "outputs": [],
   "source": [
    "# Plot each quantity over time\n",
    "ts = np.arange(3600*24*30)  # 30d\n",
    "\n",
    "oi_imb_0 = 0.5\n",
    "oi_0 = 1\n",
    "k = 4e-07"
   ]
  },
  {
   "cell_type": "code",
   "execution_count": 11,
   "metadata": {},
   "outputs": [
    {
     "data": {
      "text/plain": [
       "array([0.5       , 0.4999996 , 0.4999992 , ..., 0.06286632, 0.06286627,\n",
       "       0.06286622])"
      ]
     },
     "execution_count": 11,
     "metadata": {},
     "output_type": "execute_result"
    }
   ],
   "source": [
    "oi_imbs = np.array([ oi_imb(t, k, oi_imb_0) for t in ts ])\n",
    "oi_imbs"
   ]
  },
  {
   "cell_type": "code",
   "execution_count": 12,
   "metadata": {},
   "outputs": [
    {
     "data": {
      "text/plain": [
       "array([1.        , 0.9999998 , 0.9999996 , ..., 0.86830419, 0.86830419,\n",
       "       0.86830419])"
      ]
     },
     "execution_count": 12,
     "metadata": {},
     "output_type": "execute_result"
    }
   ],
   "source": [
    "ois = np.array([ oi(t, k, oi_imb_0, oi_0) for t in ts ])\n",
    "ois"
   ]
  },
  {
   "cell_type": "code",
   "execution_count": 13,
   "metadata": {},
   "outputs": [
    {
     "data": {
      "text/plain": [
       "array([0.00000000e+00, 1.99999860e-07, 3.99999440e-07, ...,\n",
       "       1.31695806e-01, 1.31695809e-01, 1.31695813e-01])"
      ]
     },
     "execution_count": 13,
     "metadata": {},
     "output_type": "execute_result"
    }
   ],
   "source": [
    "oi_bs = np.array([ oi_b(t, k, oi_imb_0, oi_0) for t in ts ])\n",
    "oi_bs"
   ]
  },
  {
   "cell_type": "code",
   "execution_count": 14,
   "metadata": {},
   "outputs": [
    {
     "data": {
      "text/plain": [
       "array([1., 1., 1., ..., 1., 1., 1.])"
      ]
     },
     "execution_count": 14,
     "metadata": {},
     "output_type": "execute_result"
    }
   ],
   "source": [
    "# check ois + oi_bs is 1 for all times\n",
    "ois + oi_bs"
   ]
  },
  {
   "cell_type": "code",
   "execution_count": 15,
   "metadata": {},
   "outputs": [
    {
     "data": {
      "text/plain": [
       "array([4.00000000e-07, 3.99999760e-07, 3.99999520e-07, ...,\n",
       "       5.79210061e-08, 5.79209600e-08, 5.79209139e-08])"
      ]
     },
     "execution_count": 15,
     "metadata": {},
     "output_type": "execute_result"
    }
   ],
   "source": [
    "# get the funding rate as well\n",
    "f_ls = np.array([ f_l(t, k, oi_imb_0, oi_0) for t in ts ])\n",
    "f_ls"
   ]
  },
  {
   "cell_type": "code",
   "execution_count": 16,
   "metadata": {},
   "outputs": [
    {
     "data": {
      "image/png": "[encoded data removed]",
      "text/plain": [
       "<Figure size 432x288 with 1 Axes>"
      ]
     },
     "metadata": {
      "needs_background": "light"
     },
     "output_type": "display_data"
    }
   ],
   "source": [
    "plt.plot(ts, oi_imbs, c='k')\n",
    "\n",
    "plt.title('Open Interest Imbalance')\n",
    "plt.xlabel('time (s)')\n",
    "plt.ylabel('number of contracts')\n",
    "\n",
    "plt.savefig('png/funding_revise_oiimb.png')"
   ]
  },
  {
   "cell_type": "code",
   "execution_count": 17,
   "metadata": {},
   "outputs": [
    {
     "data": {
      "image/png": "[encoded data removed]",
      "text/plain": [
       "<Figure size 432x288 with 1 Axes>"
      ]
     },
     "metadata": {
      "needs_background": "light"
     },
     "output_type": "display_data"
    }
   ],
   "source": [
    "plt.plot(ts, ois, c='b')\n",
    "\n",
    "plt.title('Total Open Interest')\n",
    "plt.xlabel('time (s)')\n",
    "plt.ylabel('number of contracts')\n",
    "\n",
    "plt.savefig('png/funding_revise_oi.png')"
   ]
  },
  {
   "cell_type": "code",
   "execution_count": 18,
   "metadata": {
    "scrolled": true
   },
   "outputs": [
    {
     "data": {
      "image/png": "[encoded data removed]",
      "text/plain": [
       "<Figure size 432x288 with 1 Axes>"
      ]
     },
     "metadata": {
      "needs_background": "light"
     },
     "output_type": "display_data"
    }
   ],
   "source": [
    "plt.plot(ts, oi_bs, c='r')\n",
    "\n",
    "plt.title('Open Interest Burn')\n",
    "plt.xlabel('time (s)')\n",
    "plt.ylabel('number of contracts')\n",
    "\n",
    "plt.savefig('png/funding_revise_oib.png')"
   ]
  },
  {
   "cell_type": "code",
   "execution_count": 19,
   "metadata": {},
   "outputs": [
    {
     "data": {
      "image/png": "[encoded data removed]",
      "text/plain": [
       "<Figure size 432x288 with 1 Axes>"
      ]
     },
     "metadata": {
      "needs_background": "light"
     },
     "output_type": "display_data"
    }
   ],
   "source": [
    "plt.plot(ts, f_ls, c='g')\n",
    "\n",
    "plt.title('Funding Rate')\n",
    "plt.xlabel('time (s)')\n",
    "plt.ylabel('rate (1/s)')\n",
    "\n",
    "plt.savefig('png/funding_revise_rates.png')"
   ]
  },
  {
   "cell_type": "code",
   "execution_count": null,
   "metadata": {},
   "outputs": [],
   "source": []
  }
 ],
 "metadata": {
  "kernelspec": {
   "display_name": "Python 3",
   "language": "python",
   "name": "python3"
  },
  "language_info": {
   "codemirror_mode": {
    "name": "ipython",
    "version": 3
   },
   "file_extension": ".py",
   "mimetype": "text/x-python",
   "name": "python",
   "nbconvert_exporter": "python",
   "pygments_lexer": "ipython3",
   "version": "3.7.4"
  }
 },
 "nbformat": 4,
 "nbformat_minor": 2
}
