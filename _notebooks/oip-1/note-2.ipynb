{
 "cells": [
  {
   "cell_type": "code",
   "execution_count": 1,
   "id": "operational-soldier",
   "metadata": {},
   "outputs": [],
   "source": [
    "import typing as tp\n",
    "import numpy as np\n",
    "import sympy as sp\n",
    "import matplotlib.pyplot as plt\n",
    "from collections import defaultdict"
   ]
  },
  {
   "cell_type": "code",
   "execution_count": 41,
   "id": "needed-fighter",
   "metadata": {},
   "outputs": [],
   "source": [
    "def rsign():\n",
    "    return 1 if np.random.random() < 0.5 else -1"
   ]
  },
  {
   "cell_type": "code",
   "execution_count": 35,
   "id": "african-chapter",
   "metadata": {},
   "outputs": [],
   "source": [
    "def t(i):\n",
    "    # time it took to mine ith block in seconds\n",
    "    return 13.23 + rsign()*np.random()\n",
    "\n",
    "def P(i):\n",
    "    #price at ith block\n",
    "    return\n",
    "\n",
    "def CP(i):\n",
    "    #cumulative price\n",
    "    sum([t(j)*P(j) for j in range(i)])"
   ]
  },
  {
   "cell_type": "code",
   "execution_count": 44,
   "id": "laughing-cover",
   "metadata": {},
   "outputs": [
    {
     "data": {
      "text/plain": [
       "1"
      ]
     },
     "execution_count": 44,
     "metadata": {},
     "output_type": "execute_result"
    }
   ],
   "source": []
  },
  {
   "cell_type": "code",
   "execution_count": null,
   "id": "distributed-duncan",
   "metadata": {},
   "outputs": [],
   "source": []
  },
  {
   "cell_type": "code",
   "execution_count": null,
   "id": "durable-melissa",
   "metadata": {},
   "outputs": [],
   "source": []
  }
 ],
 "metadata": {
  "kernelspec": {
   "display_name": "Python 3",
   "language": "python",
   "name": "python3"
  },
  "language_info": {
   "codemirror_mode": {
    "name": "ipython",
    "version": 3
   },
   "file_extension": ".py",
   "mimetype": "text/x-python",
   "name": "python",
   "nbconvert_exporter": "python",
   "pygments_lexer": "ipython3",
   "version": "3.9.1"
  }
 },
 "nbformat": 4,
 "nbformat_minor": 5
}
