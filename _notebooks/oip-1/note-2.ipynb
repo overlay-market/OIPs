{
 "cells": [
  {
   "cell_type": "code",
   "execution_count": 3,
   "metadata": {},
   "outputs": [],
   "source": [
    "import typing as tp\n",
    "import numpy as np\n",
    "import pandas as pd\n",
    "import sympy as sp\n",
    "import matplotlib.pyplot as plt\n",
    "from collections import defaultdict"
   ]
  },
  {
   "cell_type": "code",
   "execution_count": 21,
   "metadata": {},
   "outputs": [],
   "source": [
    "def rsign():\n",
    "    return 1 if np.random.random() < 0.5 else -1"
   ]
  },
  {
   "cell_type": "code",
   "execution_count": 22,
   "metadata": {},
   "outputs": [],
   "source": [
    "#prices\n",
    "prices = {}"
   ]
  },
  {
   "cell_type": "code",
   "execution_count": 392,
   "metadata": {},
   "outputs": [],
   "source": [
    "class RandomFeed:\n",
    "    def __init__(self,\n",
    "                 vol,\n",
    "                 px: float,\n",
    "                 #mid,\n",
    "                 window: int,\n",
    "                 dist_args=None,\n",
    "                 distribution=np.random.normal,\n",
    "                 **kwargs):\n",
    "        '''Args:\n",
    "            vol: volatility\n",
    "            px: beginning px for history\n",
    "            mid: the market id\n",
    "            window: the length of the windowSize for TWAP\n",
    "            dist_args: args that go into the distribution;\n",
    "                for a gaussian, the center and the std\n",
    "            \n",
    "        '''\n",
    "\n",
    "        self.distribution = distribution\n",
    "        self.vol = vol\n",
    "        self.px = px\n",
    "        #self.id = mid\n",
    "        self.window = window\n",
    "        self.dist_args = (0,1)\n",
    "        self.block_times = [0]\n",
    "        self.cumul_px = [px]\n",
    "        self.prices = [px]\n",
    "        self.twaps = []\n",
    "        self.returns = []\n",
    "        self.kwargs = kwargs\n",
    "\n",
    "    @staticmethod\n",
    "    def block_time():\n",
    "        # time it took to mine ith block in seconds\n",
    "        return 13.23 + rsign()*np.random.rand()\n",
    "    \n",
    "    def get_returns(self, arr:np.array):\n",
    "        # to get returns of any series\n",
    "        arr_init = np.roll(arr, 1)\n",
    "        returns = (arr/arr_init) - 1\n",
    "        return returns[1:] #delete spurious return\n",
    "    \n",
    "    def get_twap(self, i:int, window=-1):\n",
    "        if window < 0:\n",
    "            window = self.window\n",
    "        #ith block , window is number of blocks we average over\n",
    "        if i < self.window:\n",
    "            return\n",
    "        else:\n",
    "            return (self.cumul_px[i] - self.cumul_px[i - window])/window\n",
    "    \n",
    "    def update(self, modify_vol=False, **kwargs):      \n",
    "        #WARNING!  an in-place method that mutates the class                                             \n",
    "                                                     \n",
    "        delta = self.get_delta(**kwargs)\n",
    "        self.px += (self.vol * delta) \n",
    "        \n",
    "        if self.px <= 0:\n",
    "             raise Exception('the market price went to zero')\n",
    "               \n",
    "        block_time = t()\n",
    "        \n",
    "        #here we populate all the dynamic lists and \n",
    "        self.prices.append(self.px)\n",
    "        self.cumul_px.append(self.cumul_px[-1] + block_time*self.px)\n",
    "        self.block_times.append(block_time)\n",
    "        self.returns.append(self.prices[-1]/self.prices[-2] - 1)\n",
    "        \n",
    "        if modify_vol:\n",
    "            self.vol = kwargs['vol']\n",
    "\n",
    "    def get_delta(self, **kwargs):\n",
    "        #if the % moves are small relative to self.px, then the trader results will be unrealistic. \n",
    "        #px needs to move as a % of the price level to reflect compounding\n",
    "        if kwargs.get('pct', False):\n",
    "            standard_dev = self.vol*self.px/100   \n",
    "            center = standard_dev/10  #self.dist_args[0]\n",
    "            args = (center, standard_dev)\n",
    "            delta = self.distribution(*args)  # if self.dist_args else self.distribution()    \n",
    "        else:\n",
    "            delta = self.distribution(*self.dist_args) if self.dist_args else self.distribution()\n",
    "        delta = self.distribution(*self.dist_args) if self.dist_args else self.distribution()\n",
    "        return delta  \n",
    "    \n"
   ]
  },
  {
   "cell_type": "code",
   "execution_count": 393,
   "metadata": {},
   "outputs": [],
   "source": [
    "np.random.seed(1)\n",
    "markets = {\n",
    "    0:RandomFeed(vol=1, px = 1e3, window=50, dist_args=(0, 1)),\n",
    "    #1:RandomFeed(vol=1, px = 1e3, window=150, dist_args=(0, 1)),\n",
    "    #2:RandomFeed(vol=1, px = 1e3, window=300, dist_args=(0, 1)),\n",
    "    #3:RandomFeed(vol=1, px = 1e3, window=150, dist_args=(0, 1)),\n",
    "    }\n",
    "m = markets[0]\n",
    "for _ in range(10000):\n",
    "    m.update()"
   ]
  },
  {
   "cell_type": "code",
   "execution_count": 394,
   "metadata": {},
   "outputs": [
    {
     "data": {
      "text/plain": [
       "True"
      ]
     },
     "execution_count": 394,
     "metadata": {},
     "output_type": "execute_result"
    }
   ],
   "source": [
    "### test your get_returns method\n",
    "rets = m.get_returns(m.prices)\n",
    "all(map(np.isclose, m.returns, rets))"
   ]
  },
  {
   "cell_type": "code",
   "execution_count": 395,
   "metadata": {},
   "outputs": [],
   "source": [
    "twaps = np.array([m.get_twap(i) for i in range(50,10000)])"
   ]
  },
  {
   "cell_type": "code",
   "execution_count": 396,
   "metadata": {},
   "outputs": [
    {
     "data": {
      "text/plain": [
       "[<matplotlib.lines.Line2D at 0x7ff4584cb550>]"
      ]
     },
     "execution_count": 396,
     "metadata": {},
     "output_type": "execute_result"
    },
    {
     "data": {
      "image/png": "[encoded data removed]",
      "text/plain": [
       "<Figure size 432x288 with 1 Axes>"
      ]
     },
     "metadata": {
      "needs_background": "light"
     },
     "output_type": "display_data"
    }
   ],
   "source": [
    "plt.plot(m.prices, c='k')\n",
    "plt.plot(twaps/10, c='r')"
   ]
  },
  {
   "cell_type": "markdown",
   "metadata": {},
   "source": [
    "# The TWAP and the spot price are very different numbers , what about the returns?"
   ]
  },
  {
   "cell_type": "code",
   "execution_count": 397,
   "metadata": {},
   "outputs": [
    {
     "data": {
      "text/plain": [
       "[<matplotlib.lines.Line2D at 0x7ff47e744b50>]"
      ]
     },
     "execution_count": 397,
     "metadata": {},
     "output_type": "execute_result"
    },
    {
     "data": {
      "image/png": "[encoded data removed]",
      "text/plain": [
       "<Figure size 432x288 with 1 Axes>"
      ]
     },
     "metadata": {
      "needs_background": "light"
     },
     "output_type": "display_data"
    }
   ],
   "source": [
    "twap_crets = np.cumsum(m.get_returns(twaps))\n",
    "crets = np.cumsum(m.returns[m.window:])\n",
    "\n",
    "plt.plot(twap_crets, c='k')\n",
    "plt.plot(crets, c='r')"
   ]
  },
  {
   "cell_type": "markdown",
   "metadata": {},
   "source": [
    "# Zoom in"
   ]
  },
  {
   "cell_type": "code",
   "execution_count": 398,
   "metadata": {},
   "outputs": [
    {
     "data": {
      "text/plain": [
       "<matplotlib.legend.Legend at 0x7ff47e75f610>"
      ]
     },
     "execution_count": 398,
     "metadata": {},
     "output_type": "execute_result"
    },
    {
     "data": {
      "image/png": "[encoded data removed]",
      "text/plain": [
       "<Figure size 432x288 with 1 Axes>"
      ]
     },
     "metadata": {
      "needs_background": "light"
     },
     "output_type": "display_data"
    }
   ],
   "source": [
    "plt.plot(twap_crets[3000:3050], marker='.', c='k', label='spot')\n",
    "plt.plot(crets[3000:3050], marker='.', c='r', label='twap')\n",
    "plt.legend()"
   ]
  },
  {
   "cell_type": "markdown",
   "metadata": {},
   "source": [
    "# Because of the averaging, there are arbitrage opportunities between spot and TWAP prices. How extreme are these opportunities? "
   ]
  },
  {
   "cell_type": "code",
   "execution_count": 399,
   "metadata": {},
   "outputs": [
    {
     "name": "stdout",
     "output_type": "stream",
     "text": [
      "max + return difference: +0.006291579746074194,\n",
      "max - return difference: -0.00592785402338647\n",
      "\n",
      "\n",
      "max + cumulative return difference: +0.02102752765466276,\n",
      "max - cumulative return difference: -0.03517420471279564\n"
     ]
    }
   ],
   "source": [
    "#on a block-by-block basis\n",
    "twap_rets = m.get_returns(twaps)\n",
    "ret_diff = m.returns[51:] - twap_rets\n",
    "print(f'max + return difference: +{max(ret_diff)},\\nmax - return difference: {min(ret_diff)}')\n",
    "print('\\n')\n",
    "#buy and hold, waiting for divergence to get out\n",
    "cret_diff = crets[1:] - twap_crets\n",
    "print(f'max + cumulative return difference: +{max(cret_diff)},\\nmax - cumulative return difference: {min(cret_diff)}')"
   ]
  },
  {
   "cell_type": "markdown",
   "metadata": {},
   "source": [
    "# How does the TWAP change as we change the `windowSize`?"
   ]
  },
  {
   "cell_type": "code",
   "execution_count": 402,
   "metadata": {},
   "outputs": [
    {
     "data": {
      "text/plain": [
       "<matplotlib.legend.Legend at 0x7ff438022b80>"
      ]
     },
     "execution_count": 402,
     "metadata": {},
     "output_type": "execute_result"
    },
    {
     "data": {
      "image/png": "[encoded data removed]",
      "text/plain": [
       "<Figure size 432x288 with 1 Axes>"
      ]
     },
     "metadata": {
      "needs_background": "light"
     },
     "output_type": "display_data"
    }
   ],
   "source": [
    "twaps = {}\n",
    "for i in [50,150,300]: #different window sizes, 300 is approx 1 hr\n",
    "    twaps[i] = np.array([m.get_twap(j, window=i) for j in range(i,10000)])\n",
    "#plt.plot(m.prices[300:], c='k')\n",
    "plt.plot(twaps[50][250:], c='r', label='50')\n",
    "plt.plot(twaps[150][150:], c='b',label='150')\n",
    "plt.plot(twaps[300], c='g',label='300')\n",
    "plt.legend()"
   ]
  },
  {
   "cell_type": "code",
   "execution_count": 404,
   "metadata": {},
   "outputs": [
    {
     "data": {
      "text/plain": [
       "[9950, 9850, 9700]"
      ]
     },
     "execution_count": 404,
     "metadata": {},
     "output_type": "execute_result"
    }
   ],
   "source": [
    "#they have different lengths,  be careful\n",
    "list(map(len, twaps.values()))"
   ]
  },
  {
   "cell_type": "code",
   "execution_count": null,
   "metadata": {},
   "outputs": [],
   "source": []
  },
  {
   "cell_type": "code",
   "execution_count": 409,
   "metadata": {},
   "outputs": [
    {
     "data": {
      "text/plain": [
       "[<matplotlib.lines.Line2D at 0x7ff43808ebe0>]"
      ]
     },
     "execution_count": 409,
     "metadata": {},
     "output_type": "execute_result"
    },
    {
     "data": {
      "image/png": "[encoded data removed]",
      "text/plain": [
       "<Figure size 432x288 with 1 Axes>"
      ]
     },
     "metadata": {
      "needs_background": "light"
     },
     "output_type": "display_data"
    }
   ],
   "source": [
    "plt.plot(twaps[50][3000:3300], c='r', label='50')\n",
    "plt.plot(twaps[300][2750:3050], c='g',label='300') #need to offset by 250 to align"
   ]
  },
  {
   "cell_type": "code",
   "execution_count": 410,
   "metadata": {},
   "outputs": [],
   "source": [
    "twap_crets = np.cumsum(m.get_returns(twaps[300]))\n",
    "crets = np.cumsum(m.returns[301:])\n",
    "\n",
    "assert len(twap_crets) == len(crets)"
   ]
  },
  {
   "cell_type": "code",
   "execution_count": 411,
   "metadata": {},
   "outputs": [
    {
     "data": {
      "text/plain": [
       "<matplotlib.legend.Legend at 0x7ff4380b3550>"
      ]
     },
     "execution_count": 411,
     "metadata": {},
     "output_type": "execute_result"
    },
    {
     "data": {
      "image/png": "[encoded data removed]",
      "text/plain": [
       "<Figure size 432x288 with 1 Axes>"
      ]
     },
     "metadata": {
      "needs_background": "light"
     },
     "output_type": "display_data"
    }
   ],
   "source": [
    "plt.plot(twap_crets, c='r', label='twap')\n",
    "plt.plot(crets, c='k', label='spot')\n",
    "plt.legend()"
   ]
  },
  {
   "cell_type": "code",
   "execution_count": 412,
   "metadata": {},
   "outputs": [
    {
     "data": {
      "text/plain": [
       "<matplotlib.legend.Legend at 0x7ff48e292160>"
      ]
     },
     "execution_count": 412,
     "metadata": {},
     "output_type": "execute_result"
    },
    {
     "data": {
      "image/png": "[encoded data removed]",
      "text/plain": [
       "<Figure size 432x288 with 1 Axes>"
      ]
     },
     "metadata": {
      "needs_background": "light"
     },
     "output_type": "display_data"
    }
   ],
   "source": [
    "plt.plot(crets[3000:3050], marker='.', c='k', label='spot')\n",
    "plt.plot(twap_crets[3000:3050], marker='.', c='r', label='twap')\n",
    "plt.legend()"
   ]
  },
  {
   "cell_type": "code",
   "execution_count": 413,
   "metadata": {},
   "outputs": [
    {
     "data": {
      "text/plain": [
       "<matplotlib.legend.Legend at 0x7ff4585b66a0>"
      ]
     },
     "execution_count": 413,
     "metadata": {},
     "output_type": "execute_result"
    },
    {
     "data": {
      "image/png": "[encoded data removed]",
      "text/plain": [
       "<Figure size 432x288 with 1 Axes>"
      ]
     },
     "metadata": {
      "needs_background": "light"
     },
     "output_type": "display_data"
    }
   ],
   "source": [
    "plt.plot(twap_crets[1000:1250], c='r', label='twap')\n",
    "plt.plot(crets[1000:1250], c='k', label='spot')\n",
    "plt.legend()"
   ]
  },
  {
   "cell_type": "code",
   "execution_count": 415,
   "metadata": {},
   "outputs": [
    {
     "name": "stdout",
     "output_type": "stream",
     "text": [
      "max + return difference: +0.004872836628034949,\n",
      "max - return difference: -0.004636973513953535\n",
      "\n",
      "\n",
      "max + cumulative return difference: +0.0453587122216943,\n",
      "max - cumulative return difference: -0.038057960141136826\n"
     ]
    }
   ],
   "source": [
    "#on a block-by-block basis\n",
    "twap_rets = m.get_returns(twaps[300])\n",
    "ret_diff = m.returns[301:] - twap_rets\n",
    "print(f'max + return difference: +{max(ret_diff)},\\nmax - return difference: {min(ret_diff)}')\n",
    "print('\\n')\n",
    "#buy and hold, waiting for divergence to get out\n",
    "cret_diff = crets - twap_crets\n",
    "print(f'max + cumulative return difference: +{max(cret_diff)},\\nmax - cumulative return difference: {min(cret_diff)}')"
   ]
  },
  {
   "cell_type": "markdown",
   "metadata": {},
   "source": [
    "# The main concern is that the TWAP can be predicted. Let's see if this is the case"
   ]
  },
  {
   "cell_type": "code",
   "execution_count": 416,
   "metadata": {},
   "outputs": [
    {
     "data": {
      "text/plain": [
       "[<matplotlib.lines.Line2D at 0x7ff48e840400>]"
      ]
     },
     "execution_count": 416,
     "metadata": {},
     "output_type": "execute_result"
    },
    {
     "data": {
      "image/png": "[encoded data removed]",
      "text/plain": [
       "<Figure size 432x288 with 1 Axes>"
      ]
     },
     "metadata": {
      "needs_background": "light"
     },
     "output_type": "display_data"
    }
   ],
   "source": [
    "prices_w_shock = m.prices.copy()\n",
    "shock_block = 5000\n",
    "for i in range(100):\n",
    "    prices_w_shock[shock_block + i] = prices_w_shock[i]  \n",
    "plt.plot(prices_w_shock)"
   ]
  },
  {
   "cell_type": "code",
   "execution_count": 430,
   "metadata": {},
   "outputs": [
    {
     "data": {
      "text/plain": [
       "[<matplotlib.lines.Line2D at 0x7ff48eb766a0>]"
      ]
     },
     "execution_count": 430,
     "metadata": {},
     "output_type": "execute_result"
    },
    {
     "data": {
      "image/png": "[encoded data removed]",
      "text/plain": [
       "<Figure size 432x288 with 1 Axes>"
      ]
     },
     "metadata": {
      "needs_background": "light"
     },
     "output_type": "display_data"
    }
   ],
   "source": [
    "plt.plot(prices_w_shock[shock_block-10:shock_block+110])"
   ]
  },
  {
   "cell_type": "code",
   "execution_count": 418,
   "metadata": {},
   "outputs": [],
   "source": [
    "import copy\n",
    "Shock = copy.deepcopy(m)\n",
    "window = 300\n",
    "Shock.prices = prices_w_shock\n",
    "Shock.returns = Shock.get_returns(np.array(prices_w_shock))\n",
    "Shock.cumul_px = np.cumsum(list(map(np.multiply, Shock.block_times, Shock.prices)))\n",
    "Shock_twaps = np.array([Shock.get_twap(j, window=window) for j in range(window,10000)])"
   ]
  },
  {
   "cell_type": "code",
   "execution_count": 419,
   "metadata": {},
   "outputs": [
    {
     "data": {
      "text/plain": [
       "<matplotlib.legend.Legend at 0x7ff48e840820>"
      ]
     },
     "execution_count": 419,
     "metadata": {},
     "output_type": "execute_result"
    },
    {
     "data": {
      "image/png": "[encoded data removed]",
      "text/plain": [
       "<Figure size 432x288 with 1 Axes>"
      ]
     },
     "metadata": {
      "needs_background": "light"
     },
     "output_type": "display_data"
    }
   ],
   "source": [
    "twap_crets = np.cumsum(Shock.get_returns(Shock_twaps))\n",
    "crets = np.cumsum(Shock.returns[window:])\n",
    "\n",
    "plt.plot(twap_crets, c='r', label='twap')\n",
    "plt.plot(crets, c='k', label='spot')\n",
    "plt.legend()"
   ]
  },
  {
   "cell_type": "code",
   "execution_count": 422,
   "metadata": {},
   "outputs": [
    {
     "data": {
      "text/plain": [
       "<matplotlib.legend.Legend at 0x7ff48e971be0>"
      ]
     },
     "execution_count": 422,
     "metadata": {},
     "output_type": "execute_result"
    },
    {
     "data": {
      "image/png": "[encoded data removed]",
      "text/plain": [
       "<Figure size 432x288 with 1 Axes>"
      ]
     },
     "metadata": {
      "needs_background": "light"
     },
     "output_type": "display_data"
    }
   ],
   "source": [
    "plt.plot(twap_crets[4000:6000], c='r', label='twap')\n",
    "plt.plot(crets[4000:6000], c='k', label='spot')\n",
    "plt.legend()"
   ]
  },
  {
   "cell_type": "code",
   "execution_count": 425,
   "metadata": {},
   "outputs": [
    {
     "data": {
      "text/plain": [
       "<matplotlib.legend.Legend at 0x7ff4688df610>"
      ]
     },
     "execution_count": 425,
     "metadata": {},
     "output_type": "execute_result"
    },
    {
     "data": {
      "image/png": "[encoded data removed]",
      "text/plain": [
       "<Figure size 432x288 with 1 Axes>"
      ]
     },
     "metadata": {
      "needs_background": "light"
     },
     "output_type": "display_data"
    }
   ],
   "source": [
    "shock_time = shock_block-window\n",
    "\n",
    "plt.plot(twap_crets[shock_time-100:shock_time+100+100], c='r', label='twap')\n",
    "plt.plot(crets[shock_time-100:shock_time+100+100], c='k', label='spot')\n",
    "plt.legend()"
   ]
  },
  {
   "cell_type": "code",
   "execution_count": 429,
   "metadata": {},
   "outputs": [
    {
     "data": {
      "text/plain": [
       "0.035857625595267506"
      ]
     },
     "execution_count": 429,
     "metadata": {},
     "output_type": "execute_result"
    }
   ],
   "source": [
    "(twap_crets[shock_time+100] -twap_crets[shock_time]) "
   ]
  },
  {
   "cell_type": "markdown",
   "metadata": {},
   "source": [
    "# A 10% shock occuring in 10 blocks (a couple minutes) and lasting for 100 blocks (20 minutes) leads to about 3.5% of free profit for anyone paying attention. What is worse is that, because of the time delay, the price does not immediately revert when the spot price has an opposite shock. "
   ]
  },
  {
   "cell_type": "code",
   "execution_count": 4,
   "metadata": {},
   "outputs": [],
   "source": [
    "FILENAME = \"mc-1627502207.7848918-filtered\""
   ]
  },
  {
   "cell_type": "markdown",
   "metadata": {},
   "source": [
    "# OK, let's look at monte carlo sims. Data generated for 3 months every block assuming 15s blocks. Fit used to generate sample points assumes Levy process, with log stable increments\n",
    "\n",
    "# Fit based on ETH/USDC 120d worth of data w 10min candles. Sim points generated every 15s"
   ]
  },
  {
   "cell_type": "code",
   "execution_count": 5,
   "metadata": {},
   "outputs": [
    {
     "data": {
      "text/html": [
       "<div>\n",
       "<style scoped>\n",
       "    .dataframe tbody tr th:only-of-type {\n",
       "        vertical-align: middle;\n",
       "    }\n",
       "\n",
       "    .dataframe tbody tr th {\n",
       "        vertical-align: top;\n",
       "    }\n",
       "\n",
       "    .dataframe thead th {\n",
       "        text-align: right;\n",
       "    }\n",
       "</style>\n",
       "<table border=\"1\" class=\"dataframe\">\n",
       "  <thead>\n",
       "    <tr style=\"text-align: right;\">\n",
       "      <th></th>\n",
       "      <th>Unnamed: 0</th>\n",
       "      <th>sim-0</th>\n",
       "      <th>sim-1</th>\n",
       "      <th>sim-3</th>\n",
       "      <th>sim-5</th>\n",
       "      <th>sim-17</th>\n",
       "      <th>sim-22</th>\n",
       "      <th>sim-36</th>\n",
       "      <th>sim-38</th>\n",
       "      <th>sim-39</th>\n",
       "      <th>...</th>\n",
       "      <th>sim-72</th>\n",
       "      <th>sim-76</th>\n",
       "      <th>sim-77</th>\n",
       "      <th>sim-83</th>\n",
       "      <th>sim-89</th>\n",
       "      <th>sim-91</th>\n",
       "      <th>sim-93</th>\n",
       "      <th>sim-94</th>\n",
       "      <th>sim-97</th>\n",
       "      <th>sim-98</th>\n",
       "    </tr>\n",
       "  </thead>\n",
       "  <tbody>\n",
       "    <tr>\n",
       "      <th>0</th>\n",
       "      <td>0</td>\n",
       "      <td>2239.570000</td>\n",
       "      <td>2239.570000</td>\n",
       "      <td>2239.570000</td>\n",
       "      <td>2239.570000</td>\n",
       "      <td>2239.570000</td>\n",
       "      <td>2239.570000</td>\n",
       "      <td>2239.570000</td>\n",
       "      <td>2239.570000</td>\n",
       "      <td>2239.570000</td>\n",
       "      <td>...</td>\n",
       "      <td>2239.570000</td>\n",
       "      <td>2239.570000</td>\n",
       "      <td>2239.570000</td>\n",
       "      <td>2239.570000</td>\n",
       "      <td>2239.570000</td>\n",
       "      <td>2239.570000</td>\n",
       "      <td>2239.570000</td>\n",
       "      <td>2239.570000</td>\n",
       "      <td>2239.570000</td>\n",
       "      <td>2239.570000</td>\n",
       "    </tr>\n",
       "    <tr>\n",
       "      <th>1</th>\n",
       "      <td>1</td>\n",
       "      <td>2257.279939</td>\n",
       "      <td>2239.635583</td>\n",
       "      <td>2239.409648</td>\n",
       "      <td>2239.094328</td>\n",
       "      <td>2239.760435</td>\n",
       "      <td>2239.796242</td>\n",
       "      <td>2239.750602</td>\n",
       "      <td>2240.430580</td>\n",
       "      <td>2239.417710</td>\n",
       "      <td>...</td>\n",
       "      <td>2239.938046</td>\n",
       "      <td>2239.420321</td>\n",
       "      <td>2239.679258</td>\n",
       "      <td>2239.517582</td>\n",
       "      <td>2239.318892</td>\n",
       "      <td>2239.339680</td>\n",
       "      <td>2239.529045</td>\n",
       "      <td>2239.679989</td>\n",
       "      <td>2239.809589</td>\n",
       "      <td>2239.484089</td>\n",
       "    </tr>\n",
       "    <tr>\n",
       "      <th>2</th>\n",
       "      <td>2</td>\n",
       "      <td>2256.965792</td>\n",
       "      <td>2239.605222</td>\n",
       "      <td>2239.267675</td>\n",
       "      <td>2239.050133</td>\n",
       "      <td>2239.888765</td>\n",
       "      <td>2239.791825</td>\n",
       "      <td>2239.242870</td>\n",
       "      <td>2240.002148</td>\n",
       "      <td>2239.213937</td>\n",
       "      <td>...</td>\n",
       "      <td>2240.022457</td>\n",
       "      <td>2239.233272</td>\n",
       "      <td>2239.691800</td>\n",
       "      <td>2239.240016</td>\n",
       "      <td>2239.302512</td>\n",
       "      <td>2239.621831</td>\n",
       "      <td>2239.378811</td>\n",
       "      <td>2239.273305</td>\n",
       "      <td>2238.563352</td>\n",
       "      <td>2239.233271</td>\n",
       "    </tr>\n",
       "    <tr>\n",
       "      <th>3</th>\n",
       "      <td>3</td>\n",
       "      <td>2256.706637</td>\n",
       "      <td>2239.333992</td>\n",
       "      <td>2239.432515</td>\n",
       "      <td>2237.433049</td>\n",
       "      <td>2238.922973</td>\n",
       "      <td>2240.031993</td>\n",
       "      <td>2239.386863</td>\n",
       "      <td>2239.706611</td>\n",
       "      <td>2239.122091</td>\n",
       "      <td>...</td>\n",
       "      <td>2240.235425</td>\n",
       "      <td>2239.673608</td>\n",
       "      <td>2238.520212</td>\n",
       "      <td>2239.447428</td>\n",
       "      <td>2239.764958</td>\n",
       "      <td>2239.793826</td>\n",
       "      <td>2239.381085</td>\n",
       "      <td>2238.744148</td>\n",
       "      <td>2238.784563</td>\n",
       "      <td>2238.896240</td>\n",
       "    </tr>\n",
       "    <tr>\n",
       "      <th>4</th>\n",
       "      <td>4</td>\n",
       "      <td>2257.705008</td>\n",
       "      <td>2240.500107</td>\n",
       "      <td>2239.547802</td>\n",
       "      <td>2237.308286</td>\n",
       "      <td>2239.140346</td>\n",
       "      <td>2239.931609</td>\n",
       "      <td>2240.015802</td>\n",
       "      <td>2239.730837</td>\n",
       "      <td>2238.947734</td>\n",
       "      <td>...</td>\n",
       "      <td>2239.934672</td>\n",
       "      <td>2240.046417</td>\n",
       "      <td>2238.285628</td>\n",
       "      <td>2239.886464</td>\n",
       "      <td>2239.934240</td>\n",
       "      <td>2239.995334</td>\n",
       "      <td>2238.865671</td>\n",
       "      <td>2238.706849</td>\n",
       "      <td>2238.663632</td>\n",
       "      <td>2240.015180</td>\n",
       "    </tr>\n",
       "    <tr>\n",
       "      <th>...</th>\n",
       "      <td>...</td>\n",
       "      <td>...</td>\n",
       "      <td>...</td>\n",
       "      <td>...</td>\n",
       "      <td>...</td>\n",
       "      <td>...</td>\n",
       "      <td>...</td>\n",
       "      <td>...</td>\n",
       "      <td>...</td>\n",
       "      <td>...</td>\n",
       "      <td>...</td>\n",
       "      <td>...</td>\n",
       "      <td>...</td>\n",
       "      <td>...</td>\n",
       "      <td>...</td>\n",
       "      <td>...</td>\n",
       "      <td>...</td>\n",
       "      <td>...</td>\n",
       "      <td>...</td>\n",
       "      <td>...</td>\n",
       "      <td>...</td>\n",
       "    </tr>\n",
       "    <tr>\n",
       "      <th>518396</th>\n",
       "      <td>518396</td>\n",
       "      <td>4174.489419</td>\n",
       "      <td>906.705980</td>\n",
       "      <td>6157.105814</td>\n",
       "      <td>367.560558</td>\n",
       "      <td>195.905552</td>\n",
       "      <td>3314.593940</td>\n",
       "      <td>403.041701</td>\n",
       "      <td>8906.875086</td>\n",
       "      <td>3085.968418</td>\n",
       "      <td>...</td>\n",
       "      <td>1690.435861</td>\n",
       "      <td>19.376452</td>\n",
       "      <td>2584.766372</td>\n",
       "      <td>2181.585887</td>\n",
       "      <td>962.129536</td>\n",
       "      <td>3032.097362</td>\n",
       "      <td>1067.191654</td>\n",
       "      <td>9180.367870</td>\n",
       "      <td>2834.303017</td>\n",
       "      <td>3741.589612</td>\n",
       "    </tr>\n",
       "    <tr>\n",
       "      <th>518397</th>\n",
       "      <td>518397</td>\n",
       "      <td>4173.715783</td>\n",
       "      <td>906.519268</td>\n",
       "      <td>6157.561302</td>\n",
       "      <td>367.610972</td>\n",
       "      <td>195.885391</td>\n",
       "      <td>3313.934908</td>\n",
       "      <td>402.951137</td>\n",
       "      <td>8906.405720</td>\n",
       "      <td>3086.108355</td>\n",
       "      <td>...</td>\n",
       "      <td>1687.754736</td>\n",
       "      <td>19.378207</td>\n",
       "      <td>2584.720787</td>\n",
       "      <td>2181.946576</td>\n",
       "      <td>962.098430</td>\n",
       "      <td>3031.955090</td>\n",
       "      <td>1066.845260</td>\n",
       "      <td>9180.012436</td>\n",
       "      <td>2833.928540</td>\n",
       "      <td>3740.045180</td>\n",
       "    </tr>\n",
       "    <tr>\n",
       "      <th>518398</th>\n",
       "      <td>518398</td>\n",
       "      <td>4174.649734</td>\n",
       "      <td>906.736253</td>\n",
       "      <td>6158.126843</td>\n",
       "      <td>367.681718</td>\n",
       "      <td>195.913516</td>\n",
       "      <td>3314.246217</td>\n",
       "      <td>402.456515</td>\n",
       "      <td>8907.964768</td>\n",
       "      <td>3085.927212</td>\n",
       "      <td>...</td>\n",
       "      <td>1687.885219</td>\n",
       "      <td>19.379282</td>\n",
       "      <td>2583.785731</td>\n",
       "      <td>2183.254626</td>\n",
       "      <td>962.206680</td>\n",
       "      <td>3031.872773</td>\n",
       "      <td>1067.057273</td>\n",
       "      <td>9180.881484</td>\n",
       "      <td>2833.470085</td>\n",
       "      <td>3740.032175</td>\n",
       "    </tr>\n",
       "    <tr>\n",
       "      <th>518399</th>\n",
       "      <td>518399</td>\n",
       "      <td>4174.341345</td>\n",
       "      <td>906.878986</td>\n",
       "      <td>6158.762760</td>\n",
       "      <td>367.669851</td>\n",
       "      <td>196.010765</td>\n",
       "      <td>3313.808611</td>\n",
       "      <td>402.236807</td>\n",
       "      <td>8907.538585</td>\n",
       "      <td>3085.025612</td>\n",
       "      <td>...</td>\n",
       "      <td>1687.746931</td>\n",
       "      <td>19.377603</td>\n",
       "      <td>2583.822224</td>\n",
       "      <td>2183.000443</td>\n",
       "      <td>962.354298</td>\n",
       "      <td>3032.868904</td>\n",
       "      <td>1067.320077</td>\n",
       "      <td>9180.609562</td>\n",
       "      <td>2833.829332</td>\n",
       "      <td>3740.222330</td>\n",
       "    </tr>\n",
       "    <tr>\n",
       "      <th>518400</th>\n",
       "      <td>518400</td>\n",
       "      <td>4174.229295</td>\n",
       "      <td>906.757432</td>\n",
       "      <td>6159.313239</td>\n",
       "      <td>367.664499</td>\n",
       "      <td>196.045444</td>\n",
       "      <td>3314.168984</td>\n",
       "      <td>402.028579</td>\n",
       "      <td>8907.385747</td>\n",
       "      <td>3085.000625</td>\n",
       "      <td>...</td>\n",
       "      <td>1688.047998</td>\n",
       "      <td>19.388802</td>\n",
       "      <td>2583.716263</td>\n",
       "      <td>2181.841374</td>\n",
       "      <td>962.326495</td>\n",
       "      <td>3033.163909</td>\n",
       "      <td>1067.227409</td>\n",
       "      <td>9179.096597</td>\n",
       "      <td>2833.484290</td>\n",
       "      <td>3741.181385</td>\n",
       "    </tr>\n",
       "  </tbody>\n",
       "</table>\n",
       "<p>518401 rows × 32 columns</p>\n",
       "</div>"
      ],
      "text/plain": [
       "        Unnamed: 0        sim-0        sim-1        sim-3        sim-5  \\\n",
       "0                0  2239.570000  2239.570000  2239.570000  2239.570000   \n",
       "1                1  2257.279939  2239.635583  2239.409648  2239.094328   \n",
       "2                2  2256.965792  2239.605222  2239.267675  2239.050133   \n",
       "3                3  2256.706637  2239.333992  2239.432515  2237.433049   \n",
       "4                4  2257.705008  2240.500107  2239.547802  2237.308286   \n",
       "...            ...          ...          ...          ...          ...   \n",
       "518396      518396  4174.489419   906.705980  6157.105814   367.560558   \n",
       "518397      518397  4173.715783   906.519268  6157.561302   367.610972   \n",
       "518398      518398  4174.649734   906.736253  6158.126843   367.681718   \n",
       "518399      518399  4174.341345   906.878986  6158.762760   367.669851   \n",
       "518400      518400  4174.229295   906.757432  6159.313239   367.664499   \n",
       "\n",
       "             sim-17       sim-22       sim-36       sim-38       sim-39  ...  \\\n",
       "0       2239.570000  2239.570000  2239.570000  2239.570000  2239.570000  ...   \n",
       "1       2239.760435  2239.796242  2239.750602  2240.430580  2239.417710  ...   \n",
       "2       2239.888765  2239.791825  2239.242870  2240.002148  2239.213937  ...   \n",
       "3       2238.922973  2240.031993  2239.386863  2239.706611  2239.122091  ...   \n",
       "4       2239.140346  2239.931609  2240.015802  2239.730837  2238.947734  ...   \n",
       "...             ...          ...          ...          ...          ...  ...   \n",
       "518396   195.905552  3314.593940   403.041701  8906.875086  3085.968418  ...   \n",
       "518397   195.885391  3313.934908   402.951137  8906.405720  3086.108355  ...   \n",
       "518398   195.913516  3314.246217   402.456515  8907.964768  3085.927212  ...   \n",
       "518399   196.010765  3313.808611   402.236807  8907.538585  3085.025612  ...   \n",
       "518400   196.045444  3314.168984   402.028579  8907.385747  3085.000625  ...   \n",
       "\n",
       "             sim-72       sim-76       sim-77       sim-83       sim-89  \\\n",
       "0       2239.570000  2239.570000  2239.570000  2239.570000  2239.570000   \n",
       "1       2239.938046  2239.420321  2239.679258  2239.517582  2239.318892   \n",
       "2       2240.022457  2239.233272  2239.691800  2239.240016  2239.302512   \n",
       "3       2240.235425  2239.673608  2238.520212  2239.447428  2239.764958   \n",
       "4       2239.934672  2240.046417  2238.285628  2239.886464  2239.934240   \n",
       "...             ...          ...          ...          ...          ...   \n",
       "518396  1690.435861    19.376452  2584.766372  2181.585887   962.129536   \n",
       "518397  1687.754736    19.378207  2584.720787  2181.946576   962.098430   \n",
       "518398  1687.885219    19.379282  2583.785731  2183.254626   962.206680   \n",
       "518399  1687.746931    19.377603  2583.822224  2183.000443   962.354298   \n",
       "518400  1688.047998    19.388802  2583.716263  2181.841374   962.326495   \n",
       "\n",
       "             sim-91       sim-93       sim-94       sim-97       sim-98  \n",
       "0       2239.570000  2239.570000  2239.570000  2239.570000  2239.570000  \n",
       "1       2239.339680  2239.529045  2239.679989  2239.809589  2239.484089  \n",
       "2       2239.621831  2239.378811  2239.273305  2238.563352  2239.233271  \n",
       "3       2239.793826  2239.381085  2238.744148  2238.784563  2238.896240  \n",
       "4       2239.995334  2238.865671  2238.706849  2238.663632  2240.015180  \n",
       "...             ...          ...          ...          ...          ...  \n",
       "518396  3032.097362  1067.191654  9180.367870  2834.303017  3741.589612  \n",
       "518397  3031.955090  1066.845260  9180.012436  2833.928540  3740.045180  \n",
       "518398  3031.872773  1067.057273  9180.881484  2833.470085  3740.032175  \n",
       "518399  3032.868904  1067.320077  9180.609562  2833.829332  3740.222330  \n",
       "518400  3033.163909  1067.227409  9179.096597  2833.484290  3741.181385  \n",
       "\n",
       "[518401 rows x 32 columns]"
      ]
     },
     "execution_count": 5,
     "metadata": {},
     "output_type": "execute_result"
    }
   ],
   "source": [
    "df = pd.read_csv(f\"csv/{FILENAME}.csv\")\n",
    "df"
   ]
  },
  {
   "cell_type": "markdown",
   "metadata": {},
   "source": [
    "# Start out with something relatively tame like sim 53. Calculate the TWAP over averaging times of 30m, 1h, 8h"
   ]
  },
  {
   "cell_type": "code",
   "execution_count": 6,
   "metadata": {},
   "outputs": [
    {
     "data": {
      "text/plain": [
       "<matplotlib.axes._subplots.AxesSubplot at 0x117f1f4d0>"
      ]
     },
     "execution_count": 6,
     "metadata": {},
     "output_type": "execute_result"
    },
    {
     "data": {
      "image/png": "[encoded data removed]",
      "text/plain": [
       "<Figure size 432x288 with 1 Axes>"
      ]
     },
     "metadata": {
      "needs_background": "light"
     },
     "output_type": "display_data"
    }
   ],
   "source": [
    "sim_filter = [0, 1, 3, 5, 17, 22, 36, 38, 39, 42, 43, 47, 49, 53, 55, 56, 63, 64, 65, 69, 71, 72, 76, 77, 83, 89, 91, 93, 94, 97, 98]\n",
    "df['sim-53'].plot()"
   ]
  },
  {
   "cell_type": "code",
   "execution_count": 7,
   "metadata": {},
   "outputs": [
    {
     "data": {
      "text/plain": [
       "<matplotlib.axes._subplots.AxesSubplot at 0x11d8cf890>"
      ]
     },
     "execution_count": 7,
     "metadata": {},
     "output_type": "execute_result"
    },
    {
     "data": {
      "image/png": "[encoded data removed]",
      "text/plain": [
       "<Figure size 432x288 with 1 Axes>"
      ]
     },
     "metadata": {
      "needs_background": "light"
     },
     "output_type": "display_data"
    }
   ],
   "source": [
    "df['sim-53'][190000:210000].plot()"
   ]
  },
  {
   "cell_type": "code",
   "execution_count": 8,
   "metadata": {},
   "outputs": [
    {
     "name": "stdout",
     "output_type": "stream",
     "text": [
      "Index(['Unnamed: 0', 'sim-0', 'sim-1', 'sim-3', 'sim-5', 'sim-17', 'sim-22',\n",
      "       'sim-36', 'sim-38', 'sim-39', 'sim-42', 'sim-43', 'sim-47', 'sim-49',\n",
      "       'sim-53', 'sim-55', 'sim-56', 'sim-63', 'sim-64', 'sim-65', 'sim-69',\n",
      "       'sim-71', 'sim-72', 'sim-76', 'sim-77', 'sim-83', 'sim-89', 'sim-91',\n",
      "       'sim-93', 'sim-94', 'sim-97', 'sim-98'],\n",
      "      dtype='object')\n"
     ]
    },
    {
     "data": {
      "text/html": [
       "<div>\n",
       "<style scoped>\n",
       "    .dataframe tbody tr th:only-of-type {\n",
       "        vertical-align: middle;\n",
       "    }\n",
       "\n",
       "    .dataframe tbody tr th {\n",
       "        vertical-align: top;\n",
       "    }\n",
       "\n",
       "    .dataframe thead th {\n",
       "        text-align: right;\n",
       "    }\n",
       "</style>\n",
       "<table border=\"1\" class=\"dataframe\">\n",
       "  <thead>\n",
       "    <tr style=\"text-align: right;\">\n",
       "      <th></th>\n",
       "      <th>block</th>\n",
       "      <th>sim-0</th>\n",
       "      <th>sim-1</th>\n",
       "      <th>sim-3</th>\n",
       "      <th>sim-5</th>\n",
       "      <th>sim-17</th>\n",
       "      <th>sim-22</th>\n",
       "      <th>sim-36</th>\n",
       "      <th>sim-38</th>\n",
       "      <th>sim-39</th>\n",
       "      <th>...</th>\n",
       "      <th>sim-72</th>\n",
       "      <th>sim-76</th>\n",
       "      <th>sim-77</th>\n",
       "      <th>sim-83</th>\n",
       "      <th>sim-89</th>\n",
       "      <th>sim-91</th>\n",
       "      <th>sim-93</th>\n",
       "      <th>sim-94</th>\n",
       "      <th>sim-97</th>\n",
       "      <th>sim-98</th>\n",
       "    </tr>\n",
       "  </thead>\n",
       "  <tbody>\n",
       "    <tr>\n",
       "      <th>0</th>\n",
       "      <td>0</td>\n",
       "      <td>2239.570000</td>\n",
       "      <td>2239.570000</td>\n",
       "      <td>2239.570000</td>\n",
       "      <td>2239.570000</td>\n",
       "      <td>2239.570000</td>\n",
       "      <td>2239.570000</td>\n",
       "      <td>2239.570000</td>\n",
       "      <td>2239.570000</td>\n",
       "      <td>2239.570000</td>\n",
       "      <td>...</td>\n",
       "      <td>2239.570000</td>\n",
       "      <td>2239.570000</td>\n",
       "      <td>2239.570000</td>\n",
       "      <td>2239.570000</td>\n",
       "      <td>2239.570000</td>\n",
       "      <td>2239.570000</td>\n",
       "      <td>2239.570000</td>\n",
       "      <td>2239.570000</td>\n",
       "      <td>2239.570000</td>\n",
       "      <td>2239.570000</td>\n",
       "    </tr>\n",
       "    <tr>\n",
       "      <th>1</th>\n",
       "      <td>1</td>\n",
       "      <td>2257.279939</td>\n",
       "      <td>2239.635583</td>\n",
       "      <td>2239.409648</td>\n",
       "      <td>2239.094328</td>\n",
       "      <td>2239.760435</td>\n",
       "      <td>2239.796242</td>\n",
       "      <td>2239.750602</td>\n",
       "      <td>2240.430580</td>\n",
       "      <td>2239.417710</td>\n",
       "      <td>...</td>\n",
       "      <td>2239.938046</td>\n",
       "      <td>2239.420321</td>\n",
       "      <td>2239.679258</td>\n",
       "      <td>2239.517582</td>\n",
       "      <td>2239.318892</td>\n",
       "      <td>2239.339680</td>\n",
       "      <td>2239.529045</td>\n",
       "      <td>2239.679989</td>\n",
       "      <td>2239.809589</td>\n",
       "      <td>2239.484089</td>\n",
       "    </tr>\n",
       "    <tr>\n",
       "      <th>2</th>\n",
       "      <td>2</td>\n",
       "      <td>2256.965792</td>\n",
       "      <td>2239.605222</td>\n",
       "      <td>2239.267675</td>\n",
       "      <td>2239.050133</td>\n",
       "      <td>2239.888765</td>\n",
       "      <td>2239.791825</td>\n",
       "      <td>2239.242870</td>\n",
       "      <td>2240.002148</td>\n",
       "      <td>2239.213937</td>\n",
       "      <td>...</td>\n",
       "      <td>2240.022457</td>\n",
       "      <td>2239.233272</td>\n",
       "      <td>2239.691800</td>\n",
       "      <td>2239.240016</td>\n",
       "      <td>2239.302512</td>\n",
       "      <td>2239.621831</td>\n",
       "      <td>2239.378811</td>\n",
       "      <td>2239.273305</td>\n",
       "      <td>2238.563352</td>\n",
       "      <td>2239.233271</td>\n",
       "    </tr>\n",
       "    <tr>\n",
       "      <th>3</th>\n",
       "      <td>3</td>\n",
       "      <td>2256.706637</td>\n",
       "      <td>2239.333992</td>\n",
       "      <td>2239.432515</td>\n",
       "      <td>2237.433049</td>\n",
       "      <td>2238.922973</td>\n",
       "      <td>2240.031993</td>\n",
       "      <td>2239.386863</td>\n",
       "      <td>2239.706611</td>\n",
       "      <td>2239.122091</td>\n",
       "      <td>...</td>\n",
       "      <td>2240.235425</td>\n",
       "      <td>2239.673608</td>\n",
       "      <td>2238.520212</td>\n",
       "      <td>2239.447428</td>\n",
       "      <td>2239.764958</td>\n",
       "      <td>2239.793826</td>\n",
       "      <td>2239.381085</td>\n",
       "      <td>2238.744148</td>\n",
       "      <td>2238.784563</td>\n",
       "      <td>2238.896240</td>\n",
       "    </tr>\n",
       "    <tr>\n",
       "      <th>4</th>\n",
       "      <td>4</td>\n",
       "      <td>2257.705008</td>\n",
       "      <td>2240.500107</td>\n",
       "      <td>2239.547802</td>\n",
       "      <td>2237.308286</td>\n",
       "      <td>2239.140346</td>\n",
       "      <td>2239.931609</td>\n",
       "      <td>2240.015802</td>\n",
       "      <td>2239.730837</td>\n",
       "      <td>2238.947734</td>\n",
       "      <td>...</td>\n",
       "      <td>2239.934672</td>\n",
       "      <td>2240.046417</td>\n",
       "      <td>2238.285628</td>\n",
       "      <td>2239.886464</td>\n",
       "      <td>2239.934240</td>\n",
       "      <td>2239.995334</td>\n",
       "      <td>2238.865671</td>\n",
       "      <td>2238.706849</td>\n",
       "      <td>2238.663632</td>\n",
       "      <td>2240.015180</td>\n",
       "    </tr>\n",
       "    <tr>\n",
       "      <th>...</th>\n",
       "      <td>...</td>\n",
       "      <td>...</td>\n",
       "      <td>...</td>\n",
       "      <td>...</td>\n",
       "      <td>...</td>\n",
       "      <td>...</td>\n",
       "      <td>...</td>\n",
       "      <td>...</td>\n",
       "      <td>...</td>\n",
       "      <td>...</td>\n",
       "      <td>...</td>\n",
       "      <td>...</td>\n",
       "      <td>...</td>\n",
       "      <td>...</td>\n",
       "      <td>...</td>\n",
       "      <td>...</td>\n",
       "      <td>...</td>\n",
       "      <td>...</td>\n",
       "      <td>...</td>\n",
       "      <td>...</td>\n",
       "      <td>...</td>\n",
       "    </tr>\n",
       "    <tr>\n",
       "      <th>518396</th>\n",
       "      <td>518396</td>\n",
       "      <td>4174.489419</td>\n",
       "      <td>906.705980</td>\n",
       "      <td>6157.105814</td>\n",
       "      <td>367.560558</td>\n",
       "      <td>195.905552</td>\n",
       "      <td>3314.593940</td>\n",
       "      <td>403.041701</td>\n",
       "      <td>8906.875086</td>\n",
       "      <td>3085.968418</td>\n",
       "      <td>...</td>\n",
       "      <td>1690.435861</td>\n",
       "      <td>19.376452</td>\n",
       "      <td>2584.766372</td>\n",
       "      <td>2181.585887</td>\n",
       "      <td>962.129536</td>\n",
       "      <td>3032.097362</td>\n",
       "      <td>1067.191654</td>\n",
       "      <td>9180.367870</td>\n",
       "      <td>2834.303017</td>\n",
       "      <td>3741.589612</td>\n",
       "    </tr>\n",
       "    <tr>\n",
       "      <th>518397</th>\n",
       "      <td>518397</td>\n",
       "      <td>4173.715783</td>\n",
       "      <td>906.519268</td>\n",
       "      <td>6157.561302</td>\n",
       "      <td>367.610972</td>\n",
       "      <td>195.885391</td>\n",
       "      <td>3313.934908</td>\n",
       "      <td>402.951137</td>\n",
       "      <td>8906.405720</td>\n",
       "      <td>3086.108355</td>\n",
       "      <td>...</td>\n",
       "      <td>1687.754736</td>\n",
       "      <td>19.378207</td>\n",
       "      <td>2584.720787</td>\n",
       "      <td>2181.946576</td>\n",
       "      <td>962.098430</td>\n",
       "      <td>3031.955090</td>\n",
       "      <td>1066.845260</td>\n",
       "      <td>9180.012436</td>\n",
       "      <td>2833.928540</td>\n",
       "      <td>3740.045180</td>\n",
       "    </tr>\n",
       "    <tr>\n",
       "      <th>518398</th>\n",
       "      <td>518398</td>\n",
       "      <td>4174.649734</td>\n",
       "      <td>906.736253</td>\n",
       "      <td>6158.126843</td>\n",
       "      <td>367.681718</td>\n",
       "      <td>195.913516</td>\n",
       "      <td>3314.246217</td>\n",
       "      <td>402.456515</td>\n",
       "      <td>8907.964768</td>\n",
       "      <td>3085.927212</td>\n",
       "      <td>...</td>\n",
       "      <td>1687.885219</td>\n",
       "      <td>19.379282</td>\n",
       "      <td>2583.785731</td>\n",
       "      <td>2183.254626</td>\n",
       "      <td>962.206680</td>\n",
       "      <td>3031.872773</td>\n",
       "      <td>1067.057273</td>\n",
       "      <td>9180.881484</td>\n",
       "      <td>2833.470085</td>\n",
       "      <td>3740.032175</td>\n",
       "    </tr>\n",
       "    <tr>\n",
       "      <th>518399</th>\n",
       "      <td>518399</td>\n",
       "      <td>4174.341345</td>\n",
       "      <td>906.878986</td>\n",
       "      <td>6158.762760</td>\n",
       "      <td>367.669851</td>\n",
       "      <td>196.010765</td>\n",
       "      <td>3313.808611</td>\n",
       "      <td>402.236807</td>\n",
       "      <td>8907.538585</td>\n",
       "      <td>3085.025612</td>\n",
       "      <td>...</td>\n",
       "      <td>1687.746931</td>\n",
       "      <td>19.377603</td>\n",
       "      <td>2583.822224</td>\n",
       "      <td>2183.000443</td>\n",
       "      <td>962.354298</td>\n",
       "      <td>3032.868904</td>\n",
       "      <td>1067.320077</td>\n",
       "      <td>9180.609562</td>\n",
       "      <td>2833.829332</td>\n",
       "      <td>3740.222330</td>\n",
       "    </tr>\n",
       "    <tr>\n",
       "      <th>518400</th>\n",
       "      <td>518400</td>\n",
       "      <td>4174.229295</td>\n",
       "      <td>906.757432</td>\n",
       "      <td>6159.313239</td>\n",
       "      <td>367.664499</td>\n",
       "      <td>196.045444</td>\n",
       "      <td>3314.168984</td>\n",
       "      <td>402.028579</td>\n",
       "      <td>8907.385747</td>\n",
       "      <td>3085.000625</td>\n",
       "      <td>...</td>\n",
       "      <td>1688.047998</td>\n",
       "      <td>19.388802</td>\n",
       "      <td>2583.716263</td>\n",
       "      <td>2181.841374</td>\n",
       "      <td>962.326495</td>\n",
       "      <td>3033.163909</td>\n",
       "      <td>1067.227409</td>\n",
       "      <td>9179.096597</td>\n",
       "      <td>2833.484290</td>\n",
       "      <td>3741.181385</td>\n",
       "    </tr>\n",
       "  </tbody>\n",
       "</table>\n",
       "<p>518401 rows × 32 columns</p>\n",
       "</div>"
      ],
      "text/plain": [
       "         block        sim-0        sim-1        sim-3        sim-5  \\\n",
       "0            0  2239.570000  2239.570000  2239.570000  2239.570000   \n",
       "1            1  2257.279939  2239.635583  2239.409648  2239.094328   \n",
       "2            2  2256.965792  2239.605222  2239.267675  2239.050133   \n",
       "3            3  2256.706637  2239.333992  2239.432515  2237.433049   \n",
       "4            4  2257.705008  2240.500107  2239.547802  2237.308286   \n",
       "...        ...          ...          ...          ...          ...   \n",
       "518396  518396  4174.489419   906.705980  6157.105814   367.560558   \n",
       "518397  518397  4173.715783   906.519268  6157.561302   367.610972   \n",
       "518398  518398  4174.649734   906.736253  6158.126843   367.681718   \n",
       "518399  518399  4174.341345   906.878986  6158.762760   367.669851   \n",
       "518400  518400  4174.229295   906.757432  6159.313239   367.664499   \n",
       "\n",
       "             sim-17       sim-22       sim-36       sim-38       sim-39  ...  \\\n",
       "0       2239.570000  2239.570000  2239.570000  2239.570000  2239.570000  ...   \n",
       "1       2239.760435  2239.796242  2239.750602  2240.430580  2239.417710  ...   \n",
       "2       2239.888765  2239.791825  2239.242870  2240.002148  2239.213937  ...   \n",
       "3       2238.922973  2240.031993  2239.386863  2239.706611  2239.122091  ...   \n",
       "4       2239.140346  2239.931609  2240.015802  2239.730837  2238.947734  ...   \n",
       "...             ...          ...          ...          ...          ...  ...   \n",
       "518396   195.905552  3314.593940   403.041701  8906.875086  3085.968418  ...   \n",
       "518397   195.885391  3313.934908   402.951137  8906.405720  3086.108355  ...   \n",
       "518398   195.913516  3314.246217   402.456515  8907.964768  3085.927212  ...   \n",
       "518399   196.010765  3313.808611   402.236807  8907.538585  3085.025612  ...   \n",
       "518400   196.045444  3314.168984   402.028579  8907.385747  3085.000625  ...   \n",
       "\n",
       "             sim-72       sim-76       sim-77       sim-83       sim-89  \\\n",
       "0       2239.570000  2239.570000  2239.570000  2239.570000  2239.570000   \n",
       "1       2239.938046  2239.420321  2239.679258  2239.517582  2239.318892   \n",
       "2       2240.022457  2239.233272  2239.691800  2239.240016  2239.302512   \n",
       "3       2240.235425  2239.673608  2238.520212  2239.447428  2239.764958   \n",
       "4       2239.934672  2240.046417  2238.285628  2239.886464  2239.934240   \n",
       "...             ...          ...          ...          ...          ...   \n",
       "518396  1690.435861    19.376452  2584.766372  2181.585887   962.129536   \n",
       "518397  1687.754736    19.378207  2584.720787  2181.946576   962.098430   \n",
       "518398  1687.885219    19.379282  2583.785731  2183.254626   962.206680   \n",
       "518399  1687.746931    19.377603  2583.822224  2183.000443   962.354298   \n",
       "518400  1688.047998    19.388802  2583.716263  2181.841374   962.326495   \n",
       "\n",
       "             sim-91       sim-93       sim-94       sim-97       sim-98  \n",
       "0       2239.570000  2239.570000  2239.570000  2239.570000  2239.570000  \n",
       "1       2239.339680  2239.529045  2239.679989  2239.809589  2239.484089  \n",
       "2       2239.621831  2239.378811  2239.273305  2238.563352  2239.233271  \n",
       "3       2239.793826  2239.381085  2238.744148  2238.784563  2238.896240  \n",
       "4       2239.995334  2238.865671  2238.706849  2238.663632  2240.015180  \n",
       "...             ...          ...          ...          ...          ...  \n",
       "518396  3032.097362  1067.191654  9180.367870  2834.303017  3741.589612  \n",
       "518397  3031.955090  1066.845260  9180.012436  2833.928540  3740.045180  \n",
       "518398  3031.872773  1067.057273  9180.881484  2833.470085  3740.032175  \n",
       "518399  3032.868904  1067.320077  9180.609562  2833.829332  3740.222330  \n",
       "518400  3033.163909  1067.227409  9179.096597  2833.484290  3741.181385  \n",
       "\n",
       "[518401 rows x 32 columns]"
      ]
     },
     "execution_count": 8,
     "metadata": {},
     "output_type": "execute_result"
    }
   ],
   "source": [
    "print(df.columns)\n",
    "df = df.rename(columns={'Unnamed: 0': 'block'})\n",
    "df"
   ]
  },
  {
   "cell_type": "code",
   "execution_count": 9,
   "metadata": {},
   "outputs": [
    {
     "data": {
      "text/plain": [
       "0         2239.570000\n",
       "1         2239.667466\n",
       "2         2240.655710\n",
       "3         2238.304510\n",
       "4         2239.584944\n",
       "             ...     \n",
       "518396    2179.164884\n",
       "518397    2180.037396\n",
       "518398    2179.911487\n",
       "518399    2179.797703\n",
       "518400    2180.034550\n",
       "Name: sim-53, Length: 518401, dtype: float64"
      ]
     },
     "execution_count": 9,
     "metadata": {},
     "output_type": "execute_result"
    }
   ],
   "source": [
    "prices = df['sim-53']\n",
    "prices"
   ]
  },
  {
   "cell_type": "code",
   "execution_count": 10,
   "metadata": {},
   "outputs": [
    {
     "data": {
      "text/plain": [
       "0              0\n",
       "1              1\n",
       "2              2\n",
       "3              3\n",
       "4              4\n",
       "           ...  \n",
       "518396    518396\n",
       "518397    518397\n",
       "518398    518398\n",
       "518399    518399\n",
       "518400    518400\n",
       "Name: block, Length: 518401, dtype: int64"
      ]
     },
     "execution_count": 10,
     "metadata": {},
     "output_type": "execute_result"
    }
   ],
   "source": [
    "# This is number of blocks into the future\n",
    "blocks = df['block']\n",
    "blocks"
   ]
  },
  {
   "cell_type": "code",
   "execution_count": 13,
   "metadata": {},
   "outputs": [
    {
     "data": {
      "text/plain": [
       "0           NaN\n",
       "1           NaN\n",
       "2           NaN\n",
       "3           NaN\n",
       "4           NaN\n",
       "          ...  \n",
       "518396    240.0\n",
       "518397    240.0\n",
       "518398    240.0\n",
       "518399    240.0\n",
       "518400    240.0\n",
       "Name: block, Length: 518401, dtype: float64"
      ]
     },
     "execution_count": 13,
     "metadata": {},
     "output_type": "execute_result"
    }
   ],
   "source": [
    "# 1h price changes\n",
    "# Use the geometric mean to be consistent with uni v3: https://uniswap.org/whitepaper-v3.pdf\n",
    "# Compare with arithmetic mean as well ...\n",
    "window_1h = 4*60\n",
    "\n",
    "dp_1h_arith = prices.rolling(window=window_1h).sum()\n",
    "dt_1h = blocks.rolling(window=window_1h).apply(lambda w: w[-1]-w[0]+1, raw=True)\n",
    "dt_1h"
   ]
  },
  {
   "cell_type": "code",
   "execution_count": 14,
   "metadata": {},
   "outputs": [
    {
     "data": {
      "text/plain": [
       "239       2238.890016\n",
       "240       2238.884368\n",
       "241       2238.879010\n",
       "242       2238.868694\n",
       "243       2238.867567\n",
       "             ...     \n",
       "518396    2161.297954\n",
       "518397    2161.377192\n",
       "518398    2161.456294\n",
       "518399    2161.531477\n",
       "518400    2161.606372\n",
       "Length: 518162, dtype: float64"
      ]
     },
     "execution_count": 14,
     "metadata": {},
     "output_type": "execute_result"
    }
   ],
   "source": [
    "twap_1h_arith = (dp_1h_arith / dt_1h)\n",
    "twap_1h_arith = twap_1h_arith[~twap_1h_arith.isnull()]\n",
    "twap_1h_arith"
   ]
  },
  {
   "cell_type": "code",
   "execution_count": 15,
   "metadata": {},
   "outputs": [
    {
     "data": {
      "text/plain": [
       "239       2238.888859\n",
       "240       2238.883210\n",
       "241       2238.877853\n",
       "242       2238.867539\n",
       "243       2238.866412\n",
       "             ...     \n",
       "518396    2161.265451\n",
       "518397    2161.344353\n",
       "518398    2161.423125\n",
       "518399    2161.497987\n",
       "518400    2161.572553\n",
       "Name: sim-53, Length: 518162, dtype: float64"
      ]
     },
     "execution_count": 15,
     "metadata": {},
     "output_type": "execute_result"
    }
   ],
   "source": [
    "# Geometric mean is a bit more annoying given inf in pd. Do it all through rolling apply knowing dt is always 240 blocks in this sim\n",
    "twap_1h_geo = prices.rolling(window=window_1h).apply(lambda w: w[0] * (np.prod(w/w[0]))**(1/window_1h), raw=True)\n",
    "twap_1h_geo = twap_1h_geo[~twap_1h_geo.isnull()]\n",
    "twap_1h_geo"
   ]
  },
  {
   "cell_type": "code",
   "execution_count": 16,
   "metadata": {},
   "outputs": [
    {
     "data": {
      "text/plain": [
       "239       2237.622746\n",
       "240       2238.214274\n",
       "241       2238.381596\n",
       "242       2238.179852\n",
       "243       2238.034022\n",
       "             ...     \n",
       "518396    2179.164884\n",
       "518397    2180.037396\n",
       "518398    2179.911487\n",
       "518399    2179.797703\n",
       "518400    2180.034550\n",
       "Name: sim-53, Length: 518162, dtype: float64"
      ]
     },
     "execution_count": 16,
     "metadata": {},
     "output_type": "execute_result"
    }
   ],
   "source": [
    "prices_filtered = prices[239:]\n",
    "prices_filtered"
   ]
  },
  {
   "cell_type": "markdown",
   "metadata": {},
   "source": [
    "# Compare what TWAP arithmetic, geometric vs spot look like near a spot jump"
   ]
  },
  {
   "cell_type": "code",
   "execution_count": 17,
   "metadata": {},
   "outputs": [
    {
     "data": {
      "text/plain": [
       "194949    1637.445701\n",
       "194950    1637.247430\n",
       "194951    1637.421921\n",
       "194952    1636.634825\n",
       "194953    1636.663335\n",
       "194954    1636.650276\n",
       "194955    1636.749059\n",
       "194956    1635.894670\n",
       "194957    1635.856624\n",
       "194958    1635.430328\n",
       "194959    1635.315208\n",
       "194960    1634.585924\n",
       "194961    1633.767173\n",
       "194962    1633.765022\n",
       "194963    1633.796563\n",
       "194964    1634.757899\n",
       "194965    1634.983232\n",
       "194966    1635.193521\n",
       "194967    1634.694454\n",
       "194968    1634.704682\n",
       "194969    1634.698519\n",
       "194970    1634.724512\n",
       "194971    1994.326618\n",
       "194972    1990.126144\n",
       "194973    1989.787615\n",
       "194974    1989.552402\n",
       "194975    1988.576333\n",
       "194976    1988.713652\n",
       "194977    1988.674788\n",
       "194978    1988.696268\n",
       "194979    1988.999884\n",
       "194980    1989.234997\n",
       "194981    1989.008158\n",
       "194982    1989.095215\n",
       "194983    1989.152632\n",
       "194984    1989.476140\n",
       "194985    1989.942940\n",
       "194986    1989.624463\n",
       "194987    1990.070219\n",
       "194988    1989.968677\n",
       "194989    1989.188977\n",
       "194990    1989.960421\n",
       "194991    1989.434537\n",
       "194992    1989.031456\n",
       "194993    1989.041240\n",
       "194994    1988.786918\n",
       "194995    1988.794441\n",
       "194996    1988.678632\n",
       "194997    1989.718691\n",
       "194998    1989.736887\n",
       "Name: sim-53, dtype: float64"
      ]
     },
     "execution_count": 17,
     "metadata": {},
     "output_type": "execute_result"
    }
   ],
   "source": [
    "prices_filtered[194710:194760]"
   ]
  },
  {
   "cell_type": "markdown",
   "metadata": {},
   "source": [
    "# Notice, there's a 360 USD (22%) jump over 1 block, which is unrealistic (larger tails in log stable than in reality). Should likely use 10min data to get more realistic sense, but this is good to stress test. Will come back to using 10min data later in notebook."
   ]
  },
  {
   "cell_type": "code",
   "execution_count": 18,
   "metadata": {},
   "outputs": [
    {
     "data": {
      "text/plain": [
       "194949    1639.848098\n",
       "194950    1639.799708\n",
       "194951    1639.749869\n",
       "194952    1639.698266\n",
       "194953    1639.645923\n",
       "194954    1639.596900\n",
       "194955    1639.547413\n",
       "194956    1639.493362\n",
       "194957    1639.437896\n",
       "194958    1639.380414\n",
       "194959    1639.322263\n",
       "194960    1639.266878\n",
       "194961    1639.208955\n",
       "194962    1639.145160\n",
       "194963    1639.081097\n",
       "194964    1639.019885\n",
       "194965    1638.955612\n",
       "194966    1638.893635\n",
       "194967    1638.829073\n",
       "194968    1638.765166\n",
       "194969    1638.699826\n",
       "194970    1638.635522\n",
       "194971    1640.072081\n",
       "194972    1641.493586\n",
       "194973    1642.917156\n",
       "194974    1644.339188\n",
       "194975    1645.756711\n",
       "194976    1647.174849\n",
       "194977    1648.592427\n",
       "194978    1650.007003\n",
       "194979    1651.423193\n",
       "194980    1652.839931\n",
       "194981    1654.260080\n",
       "194982    1655.681324\n",
       "194983    1657.106640\n",
       "194984    1658.533988\n",
       "194985    1659.963602\n",
       "194986    1661.390022\n",
       "194987    1662.819405\n",
       "194988    1664.247851\n",
       "194989    1665.675496\n",
       "194990    1667.107350\n",
       "194991    1668.536743\n",
       "194992    1669.964004\n",
       "194993    1671.391759\n",
       "194994    1672.818293\n",
       "194995    1674.244438\n",
       "194996    1675.668121\n",
       "194997    1677.099071\n",
       "194998    1678.531046\n",
       "dtype: float64"
      ]
     },
     "execution_count": 18,
     "metadata": {},
     "output_type": "execute_result"
    }
   ],
   "source": [
    "twap_1h_arith[194710:194760]"
   ]
  },
  {
   "cell_type": "code",
   "execution_count": 24,
   "metadata": {},
   "outputs": [
    {
     "name": "stdout",
     "output_type": "stream",
     "text": [
      "194949    1639.835271\n",
      "194950    1639.786976\n",
      "194951    1639.737247\n",
      "194952    1639.685742\n",
      "194953    1639.633503\n",
      "194954    1639.584567\n",
      "194955    1639.535174\n",
      "194956    1639.481218\n",
      "194957    1639.425854\n",
      "194958    1639.368475\n",
      "194959    1639.310428\n",
      "194960    1639.255109\n",
      "194961    1639.197238\n",
      "194962    1639.133530\n",
      "194963    1639.069560\n",
      "194964    1639.008461\n",
      "194965    1638.944333\n",
      "194966    1638.882496\n",
      "194967    1638.818074\n",
      "194968    1638.754307\n",
      "194969    1638.689118\n",
      "194970    1638.624962\n",
      "194971    1639.921370\n",
      "194972    1641.206823\n",
      "194973    1642.495581\n",
      "194974    1643.783985\n",
      "194975    1645.069594\n",
      "194976    1646.356726\n",
      "194977    1647.644333\n",
      "194978    1648.929929\n",
      "194979    1650.217927\n",
      "194980    1651.507312\n",
      "194981    1652.801287\n",
      "194982    1654.097312\n",
      "194983    1655.398404\n",
      "194984    1656.702329\n",
      "194985    1658.009225\n",
      "194986    1659.314165\n",
      "194987    1660.622797\n",
      "194988    1661.931589\n",
      "194989    1663.241168\n",
      "194990    1664.555474\n",
      "194991    1665.868711\n",
      "194992    1667.181119\n",
      "194993    1668.495054\n",
      "194994    1669.808972\n",
      "194995    1671.123524\n",
      "194996    1672.436694\n",
      "194997    1673.757524\n",
      "194998    1675.080428\n",
      "Name: sim-53, dtype: float64\n",
      "194949    1639.835271\n",
      "194950    1639.786976\n",
      "194951    1639.737247\n",
      "194952    1639.685742\n",
      "194953    1639.633503\n",
      "             ...     \n",
      "195234    1986.410104\n",
      "195235    1986.396647\n",
      "195236    1986.384421\n",
      "195237    1986.367847\n",
      "195238    1986.349484\n",
      "Name: sim-53, Length: 290, dtype: float64\n"
     ]
    }
   ],
   "source": [
    "print(twap_1h_geo[194710:194760])\n",
    "print(twap_1h_geo[194710:195000])"
   ]
  },
  {
   "cell_type": "markdown",
   "metadata": {},
   "source": [
    "# Timelag in the TWAP vs spot is clear. Now let's plot and add in bid/ask spread.\n",
    "\n",
    "## Bid/ask spread based off last point added to accumluator + 99% confidence constant E_B. Limits probability of profitable trade 1h into future once TWAP catches up to spot\n",
    "\n",
    "## dB = P_{t-1} * e^{ (1/T) * [X_t + E_B ] } - TWAP_{t}\n",
    "\n",
    "## where T is averaging window for the TWAP.\n",
    "\n",
    "## Q: Do we want to min the exponent so it's never less than TWAP_{t} for B nor greater than TWAP_{t} for ask?"
   ]
  },
  {
   "cell_type": "code",
   "execution_count": 19,
   "metadata": {},
   "outputs": [
    {
     "data": {
      "text/plain": [
       "<matplotlib.axes._subplots.AxesSubplot at 0x11c437fd0>"
      ]
     },
     "execution_count": 19,
     "metadata": {},
     "output_type": "execute_result"
    },
    {
     "data": {
      "image/png": "[encoded data removed]",
      "text/plain": [
       "<Figure size 432x288 with 1 Axes>"
      ]
     },
     "metadata": {
      "needs_background": "light"
     },
     "output_type": "display_data"
    }
   ],
   "source": [
    "ax = prices_filtered.plot()\n",
    "twap_1h_geo.plot(ax=ax)\n",
    "twap_1h_arith.plot(ax=ax)"
   ]
  },
  {
   "cell_type": "code",
   "execution_count": 20,
   "metadata": {},
   "outputs": [
    {
     "data": {
      "text/plain": [
       "<matplotlib.axes._subplots.AxesSubplot at 0x11df37b10>"
      ]
     },
     "execution_count": 20,
     "metadata": {},
     "output_type": "execute_result"
    },
    {
     "data": {
      "image/png": "[encoded data removed]",
      "text/plain": [
       "<Figure size 432x288 with 1 Axes>"
      ]
     },
     "metadata": {
      "needs_background": "light"
     },
     "output_type": "display_data"
    }
   ],
   "source": [
    "ax = prices_filtered[194500:195000].plot()\n",
    "twap_1h_geo[194500:195000].plot(ax=ax)\n",
    "twap_1h_arith[194500:195000].plot(ax=ax)"
   ]
  },
  {
   "cell_type": "markdown",
   "metadata": {},
   "source": [
    "# Playing catch up over 240 blocks after spot jump with TWAP"
   ]
  },
  {
   "cell_type": "code",
   "execution_count": 21,
   "metadata": {},
   "outputs": [
    {
     "data": {
      "text/plain": [
       "<matplotlib.axes._subplots.AxesSubplot at 0x14808aa90>"
      ]
     },
     "execution_count": 21,
     "metadata": {},
     "output_type": "execute_result"
    },
    {
     "data": {
      "image/png": "[encoded data removed]",
      "text/plain": [
       "<Figure size 432x288 with 1 Axes>"
      ]
     },
     "metadata": {
      "needs_background": "light"
     },
     "output_type": "display_data"
    }
   ],
   "source": [
    "ax = prices_filtered[194730:194972].plot()\n",
    "twap_1h_geo[194730:194972].plot(ax=ax)\n",
    "twap_1h_arith[194730:194972].plot(ax=ax)"
   ]
  },
  {
   "cell_type": "code",
   "execution_count": 22,
   "metadata": {},
   "outputs": [
    {
     "data": {
      "text/plain": [
       "<matplotlib.axes._subplots.AxesSubplot at 0x1191fa090>"
      ]
     },
     "execution_count": 22,
     "metadata": {},
     "output_type": "execute_result"
    },
    {
     "data": {
      "image/png": "[encoded data removed]",
      "text/plain": [
       "<Figure size 432x288 with 1 Axes>"
      ]
     },
     "metadata": {
      "needs_background": "light"
     },
     "output_type": "display_data"
    }
   ],
   "source": [
    "ax = prices_filtered[194965:195350].plot()\n",
    "twap_1h_geo[194965:195350].plot(ax=ax)"
   ]
  },
  {
   "cell_type": "code",
   "execution_count": 23,
   "metadata": {},
   "outputs": [
    {
     "data": {
      "text/plain": [
       "<matplotlib.axes._subplots.AxesSubplot at 0x11930ddd0>"
      ]
     },
     "execution_count": 23,
     "metadata": {},
     "output_type": "execute_result"
    },
    {
     "data": {
      "image/png": "[encoded data removed]",
      "text/plain": [
       "<Figure size 432x288 with 1 Axes>"
      ]
     },
     "metadata": {
      "needs_background": "light"
     },
     "output_type": "display_data"
    }
   ],
   "source": [
    "ax = twap_1h_geo[194965:195350].plot()\n",
    "twap_1h_arith[194965:195350].plot(ax=ax)"
   ]
  },
  {
   "cell_type": "code",
   "execution_count": 24,
   "metadata": {},
   "outputs": [
    {
     "data": {
      "text/plain": [
       "<matplotlib.axes._subplots.AxesSubplot at 0x1192c30d0>"
      ]
     },
     "execution_count": 24,
     "metadata": {},
     "output_type": "execute_result"
    },
    {
     "data": {
      "image/png": "[encoded data removed]",
      "text/plain": [
       "<Figure size 432x288 with 1 Axes>"
      ]
     },
     "metadata": {
      "needs_background": "light"
     },
     "output_type": "display_data"
    }
   ],
   "source": [
    "# Focus on only 240 block timespan to check catch up\n",
    "ax = prices_filtered[194970:195350].plot()\n",
    "twap_1h_geo[194970:195350].plot(ax=ax)"
   ]
  },
  {
   "cell_type": "code",
   "execution_count": 25,
   "metadata": {},
   "outputs": [
    {
     "name": "stdout",
     "output_type": "stream",
     "text": [
      "195209    1987.427329\n",
      "195210    1987.061184\n",
      "195211    1986.902750\n",
      "195212    1986.925091\n",
      "195213    1986.913355\n",
      "195214    1987.084465\n",
      "195215    1985.698910\n",
      "195216    1985.637224\n",
      "195217    1985.750202\n",
      "195218    1985.887878\n",
      "195219    1986.114328\n",
      "195220    1986.326442\n",
      "195221    1986.469949\n",
      "195222    1985.365886\n",
      "195223    1986.880659\n",
      "195224    1986.879325\n",
      "195225    1986.832025\n",
      "195226    1986.723653\n",
      "195227    1986.858808\n",
      "195228    1986.403009\n",
      "195229    1986.030006\n",
      "195230    1985.337765\n",
      "195231    1985.569617\n",
      "195232    1985.600455\n",
      "195233    1985.773879\n",
      "195234    1985.244777\n",
      "195235    1985.563615\n",
      "195236    1985.743142\n",
      "195237    1985.738180\n",
      "195238    1985.327255\n",
      "195239    1984.702402\n",
      "195240    1984.520949\n",
      "195241    1984.596926\n",
      "195242    1984.485857\n",
      "195243    1984.791574\n",
      "195244    1984.313530\n",
      "195245    1984.401755\n",
      "195246    1983.497403\n",
      "195247    1984.019650\n",
      "195248    1983.589147\n",
      "195249    1983.410406\n",
      "195250    1983.653382\n",
      "195251    1995.482323\n",
      "195252    1995.783461\n",
      "195253    1995.607815\n",
      "195254    1995.463227\n",
      "195255    1995.709130\n",
      "195256    1995.771407\n",
      "195257    1995.633609\n",
      "195258    1995.281324\n",
      "195259    1995.328937\n",
      "195260    1994.980132\n",
      "195261    1993.761017\n",
      "195262    1993.607872\n",
      "195263    1993.916090\n",
      "Name: sim-53, dtype: float64\n",
      "195209    1985.125038\n",
      "195210    1986.740118\n",
      "195211    1986.709246\n",
      "195212    1986.695920\n",
      "195213    1986.683954\n",
      "195214    1986.673680\n",
      "195215    1986.661693\n",
      "195216    1986.648878\n",
      "195217    1986.636696\n",
      "195218    1986.624998\n",
      "195219    1986.612981\n",
      "195220    1986.600869\n",
      "195221    1986.590299\n",
      "195222    1986.574765\n",
      "195223    1986.565306\n",
      "195224    1986.554494\n",
      "195225    1986.541544\n",
      "195226    1986.529468\n",
      "195227    1986.516100\n",
      "195228    1986.501255\n",
      "195229    1986.488100\n",
      "195230    1986.468851\n",
      "195231    1986.452755\n",
      "195232    1986.438466\n",
      "195233    1986.424858\n",
      "195234    1986.410104\n",
      "195235    1986.396647\n",
      "195236    1986.384421\n",
      "195237    1986.367847\n",
      "195238    1986.349484\n",
      "195239    1986.311792\n",
      "195240    1986.272341\n",
      "195241    1986.230949\n",
      "195242    1986.189649\n",
      "195243    1986.149611\n",
      "195244    1986.107976\n",
      "195245    1986.067013\n",
      "195246    1986.022619\n",
      "195247    1985.979745\n",
      "195248    1985.936895\n",
      "195249    1985.893596\n",
      "195250    1985.848948\n",
      "195251    1985.863894\n",
      "195252    1985.880668\n",
      "195253    1985.891454\n",
      "195254    1985.901133\n",
      "195255    1985.917883\n",
      "195256    1985.936650\n",
      "195257    1985.954074\n",
      "195258    1985.970445\n",
      "195259    1985.987777\n",
      "195260    1986.004027\n",
      "195261    1986.014851\n",
      "195262    1986.024072\n",
      "195263    1986.034688\n",
      "Name: sim-53, dtype: float64\n"
     ]
    }
   ],
   "source": [
    "print(prices_filtered[194970:195025])\n",
    "print(twap_1h_geo[194970:195025])"
   ]
  },
  {
   "cell_type": "code",
   "execution_count": 26,
   "metadata": {
    "scrolled": true
   },
   "outputs": [
    {
     "name": "stdout",
     "output_type": "stream",
     "text": [
      "0.005945500089474321\n"
     ]
    },
    {
     "data": {
      "text/plain": [
       "1999.8144818826183"
      ]
     },
     "execution_count": 26,
     "metadata": {},
     "output_type": "execute_result"
    }
   ],
   "source": [
    "# Jump in spot occurs from 195250 to 195251\n",
    "print(np.log(1995.482323/1983.653382))\n",
    "np.exp(0.005945500089474321/240)*np.exp(np.log(1.007))\n",
    "\n",
    "# geometric TWAP value at 19250 is 1985.848948; 19251 is 1985.863894\n",
    "1985.863894*np.exp(0.005945500089474321/240)*np.exp(np.log(1.007))\n",
    "\n",
    "# Perfect. It's above the jump"
   ]
  },
  {
   "cell_type": "code",
   "execution_count": 27,
   "metadata": {},
   "outputs": [
    {
     "name": "stdout",
     "output_type": "stream",
     "text": [
      "2009.50047983307\n"
     ]
    }
   ],
   "source": [
    "# We could make it way more intense by instead using the current spot price as the top of the buy band ...\n",
    "print(1995.482323*np.exp(0.005945500089474321/240)*np.exp(np.log(1.007)))\n",
    "\n",
    "# Yea then it's way higher."
   ]
  },
  {
   "cell_type": "code",
   "execution_count": 138,
   "metadata": {},
   "outputs": [
    {
     "name": "stdout",
     "output_type": "stream",
     "text": [
      "195209    1987.427329\n",
      "195210    1987.061184\n",
      "195211    1986.902750\n",
      "195212    1986.925091\n",
      "195213    1986.913355\n",
      "195214    1987.084465\n",
      "195215    1985.698910\n",
      "195216    1985.637224\n",
      "195217    1985.750202\n",
      "195218    1985.887878\n",
      "195219    1986.114328\n",
      "195220    1986.326442\n",
      "195221    1986.469949\n",
      "195222    1985.365886\n",
      "195223    1986.880659\n",
      "195224    1986.879325\n",
      "195225    1986.832025\n",
      "195226    1986.723653\n",
      "195227    1986.858808\n",
      "195228    1986.403009\n",
      "195229    1986.030006\n",
      "195230    1985.337765\n",
      "195231    1985.569617\n",
      "195232    1985.600455\n",
      "195233    1985.773879\n",
      "195234    1985.244777\n",
      "195235    1985.563615\n",
      "195236    1985.743142\n",
      "195237    1985.738180\n",
      "195238    1985.327255\n",
      "195239    1984.702402\n",
      "195240    1984.520949\n",
      "195241    1984.596926\n",
      "195242    1984.485857\n",
      "195243    1984.791574\n",
      "195244    1984.313530\n",
      "195245    1984.401755\n",
      "195246    1983.497403\n",
      "195247    1984.019650\n",
      "195248    1983.589147\n",
      "195249    1983.410406\n",
      "195250    1983.653382\n",
      "195251    1995.482323\n",
      "195252    1995.783461\n",
      "195253    1995.607815\n",
      "195254    1995.463227\n",
      "195255    1995.709130\n",
      "195256    1995.771407\n",
      "195257    1995.633609\n",
      "195258    1995.281324\n",
      "195259    1995.328937\n",
      "195260    1994.980132\n",
      "195261    1993.761017\n",
      "195262    1993.607872\n",
      "195263    1993.916090\n",
      "Name: sim-53, dtype: float64\n",
      "195449    1998.875405\n",
      "195450    1998.947154\n",
      "195451    1999.018990\n",
      "195452    1999.089430\n",
      "195453    1999.157888\n",
      "195454    1999.234638\n",
      "195455    1999.318270\n",
      "195456    1999.401012\n",
      "195457    1999.484409\n",
      "195458    1999.568291\n",
      "195459    1999.649584\n",
      "195460    1999.731217\n",
      "195461    1999.813875\n",
      "195462    1999.902096\n",
      "195463    1999.983620\n",
      "195464    2000.066482\n",
      "195465    2000.149991\n",
      "195466    2000.232721\n",
      "195467    2000.317481\n",
      "195468    2000.405174\n",
      "195469    2000.494818\n",
      "195470    2000.586573\n",
      "195471    2000.676998\n",
      "195472    2000.767675\n",
      "195473    2000.860250\n",
      "195474    2000.953506\n",
      "195475    2001.046171\n",
      "195476    2001.136618\n",
      "195477    2001.226466\n",
      "195478    2001.318927\n",
      "195479    2001.411924\n",
      "195480    2001.504740\n",
      "195481    2001.596997\n",
      "195482    2001.690005\n",
      "195483    2001.780730\n",
      "195484    2001.872252\n",
      "195485    2001.962546\n",
      "195486    2002.056762\n",
      "195487    2002.147661\n",
      "195488    2002.245799\n",
      "195489    2002.341845\n",
      "195490    2002.436412\n",
      "195491    2002.483630\n",
      "195492    2002.530344\n",
      "195493    2002.577607\n",
      "195494    2002.625134\n",
      "195495    2002.670719\n",
      "195496    2002.716477\n",
      "195497    2002.764485\n",
      "195498    2002.812484\n",
      "195499    2002.859030\n",
      "195500    2002.906754\n",
      "195501    2002.957640\n",
      "195502    2003.010284\n",
      "195503    2003.061523\n",
      "Name: sim-53, dtype: float64\n"
     ]
    }
   ],
   "source": [
    "# Check that we catch up at 195251+240 = 195491\n",
    "print(prices_filtered[194970:195025])\n",
    "print(twap_1h_geo[195210:195265])"
   ]
  },
  {
   "cell_type": "code",
   "execution_count": 28,
   "metadata": {
    "scrolled": true
   },
   "outputs": [
    {
     "data": {
      "text/plain": [
       "0.001334697864008307"
      ]
     },
     "execution_count": 28,
     "metadata": {},
     "output_type": "execute_result"
    }
   ],
   "source": [
    "# 195491    2002.483630\n",
    "# Geometric twap is at 2002.483630 after an hour. Bid up with 0.7% envelope had it at 1999.8144818826183.\n",
    "# So trader can profit ... 0.1334% => which is 0 after fees [x]\n",
    "(2002.483630-1999.8144818826183)/1999.8144818826183"
   ]
  },
  {
   "cell_type": "markdown",
   "metadata": {},
   "source": [
    "# Ok! Bid/ask envelope seems potentially promising. Let's see it live in action. Add in envelope values to 1h TWAP for bid/ask. Don't have it adjust only on side with jump (try this later)"
   ]
  },
  {
   "cell_type": "code",
   "execution_count": 30,
   "metadata": {},
   "outputs": [
    {
     "data": {
      "text/plain": [
       "0.007283411446258746"
      ]
     },
     "execution_count": 30,
     "metadata": {},
     "output_type": "execute_result"
    }
   ],
   "source": [
    "# Spread that makes unwinding over the next hour during TWAP catchup unprofitable ~99% of time\n",
    "# SPREAD_X is e^X exponent component\n",
    "SPREAD_X = np.log(1.00731)\n",
    "SPREAD_X"
   ]
  },
  {
   "cell_type": "code",
   "execution_count": 33,
   "metadata": {},
   "outputs": [
    {
     "name": "stdout",
     "output_type": "stream",
     "text": [
      "Long side price adjust up: 1.00731\n",
      "Short side price adjust down: 0.9927430483168043\n"
     ]
    }
   ],
   "source": [
    "print('Long side price adjust up (Ask):', np.exp(SPREAD_X))\n",
    "print('Short side price adjust down (Bid):', np.exp(-SPREAD_X))"
   ]
  },
  {
   "cell_type": "code",
   "execution_count": 36,
   "metadata": {},
   "outputs": [],
   "source": [
    "twap_1h_geo_ask = twap_1h_geo.apply(lambda x: x * np.exp(SPREAD_X))\n",
    "twap_1h_geo_bid = twap_1h_geo.apply(lambda x: x * np.exp(-SPREAD_X))"
   ]
  },
  {
   "cell_type": "code",
   "execution_count": 37,
   "metadata": {},
   "outputs": [
    {
     "data": {
      "text/plain": [
       "<matplotlib.axes._subplots.AxesSubplot at 0x1193b8e50>"
      ]
     },
     "execution_count": 37,
     "metadata": {},
     "output_type": "execute_result"
    },
    {
     "data": {
      "image/png": "[encoded data removed]",
      "text/plain": [
       "<Figure size 432x288 with 1 Axes>"
      ]
     },
     "metadata": {
      "needs_background": "light"
     },
     "output_type": "display_data"
    }
   ],
   "source": [
    "ax = prices_filtered[194970:195350].plot()\n",
    "twap_1h_geo[194970:195350].plot(ax=ax)\n",
    "twap_1h_geo_ask[194970:195350].plot(ax=ax)\n",
    "twap_1h_geo_bid[194970:195350].plot(ax=ax)"
   ]
  },
  {
   "cell_type": "code",
   "execution_count": 55,
   "metadata": {},
   "outputs": [
    {
     "name": "stdout",
     "output_type": "stream",
     "text": [
      "prices_filtered 195251    1995.482323\n",
      "Name: sim-53, dtype: float64\n",
      "twap_1h_geo 195251    1985.863894\n",
      "Name: sim-53, dtype: float64\n",
      "twap_1h_geo_ask 195251    2000.380559\n",
      "Name: sim-53, dtype: float64\n",
      "twap_1h_geo_bid 195251    1971.452575\n",
      "Name: sim-53, dtype: float64\n"
     ]
    }
   ],
   "source": [
    "print(\"prices_filtered\", prices_filtered[195012:195013])\n",
    "print(\"twap_1h_geo\", twap_1h_geo[195012:195013])\n",
    "print(\"twap_1h_geo_ask\", twap_1h_geo_ask[195012:195013])\n",
    "print(\"twap_1h_geo_bid\", twap_1h_geo_bid[195012:195013])"
   ]
  },
  {
   "cell_type": "code",
   "execution_count": 56,
   "metadata": {},
   "outputs": [
    {
     "data": {
      "text/plain": [
       "2000.38055906514"
      ]
     },
     "execution_count": 56,
     "metadata": {},
     "output_type": "execute_result"
    }
   ],
   "source": [
    "1985.863894 * np.exp(SPREAD_X)"
   ]
  },
  {
   "cell_type": "code",
   "execution_count": 57,
   "metadata": {},
   "outputs": [
    {
     "data": {
      "text/plain": [
       "1.00731"
      ]
     },
     "execution_count": 57,
     "metadata": {},
     "output_type": "execute_result"
    }
   ],
   "source": [
    "np.exp(SPREAD_X)"
   ]
  },
  {
   "cell_type": "code",
   "execution_count": 58,
   "metadata": {},
   "outputs": [
    {
     "data": {
      "text/plain": [
       "14.51666506514"
      ]
     },
     "execution_count": 58,
     "metadata": {},
     "output_type": "execute_result"
    }
   ],
   "source": [
    "0.00731 * 1985.863894"
   ]
  },
  {
   "cell_type": "code",
   "execution_count": null,
   "metadata": {},
   "outputs": [],
   "source": []
  }
 ],
 "metadata": {
  "kernelspec": {
   "display_name": "Python 3",
   "language": "python",
   "name": "python3"
  },
  "language_info": {
   "codemirror_mode": {
    "name": "ipython",
    "version": 3
   },
   "file_extension": ".py",
   "mimetype": "text/x-python",
   "name": "python",
   "nbconvert_exporter": "python",
   "pygments_lexer": "ipython3",
   "version": "3.7.4"
  }
 },
 "nbformat": 4,
 "nbformat_minor": 5
}
