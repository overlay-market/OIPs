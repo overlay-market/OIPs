{
 "cells": [
  {
   "cell_type": "code",
   "execution_count": null,
   "metadata": {},
   "outputs": [],
   "source": [
    "import typing as tp\n",
    "import numpy as np\n",
    "import sympy as sp\n",
    "import matplotlib.pyplot as plt\n",
    "from collections import defaultdict\n",
    "\n",
    "np.random.seed(seed=1)"
   ]
  },
  {
   "cell_type": "markdown",
   "metadata": {},
   "source": [
    "# Analysis of OIPs"
   ]
  },
  {
   "cell_type": "markdown",
   "metadata": {},
   "source": [
    "Notational cavil: Don't subscript your variables with variables. Just vary the first variable. It complicates the exposition to say $t_i$ instead of just $t$, where instead of $i$ varying, $t$ is allowed to vary. Because then you have things like $P_k$ being the price at time $t_k$, when you've already used $k$ for the funding rate, and now $t$ is suppressed because hey, why have two levels of subscripting? Exactly, don't. "
   ]
  },
  {
   "cell_type": "markdown",
   "metadata": {},
   "source": [
    "## OIP 1"
   ]
  },
  {
   "cell_type": "markdown",
   "metadata": {},
   "source": [
    "The first concept is the 'time weighted average open interest long': $\\mathrm{TWAOI}_{l}$, such that   'time weighted average open interest imbalance': $\\mathrm{TWAOI}_{imb} = \\mathrm{TWAOI}_{l} - \\mathrm{TWAOI}_{s}$"
   ]
  },
  {
   "cell_type": "code",
   "execution_count": null,
   "metadata": {},
   "outputs": [],
   "source": [
    "def twa(series: tp.Iterable, period: float) -> float:\n",
    "    return sum(series)/period\n",
    "\n",
    "def display(series, period):    \n",
    "    plt.plot(series,  marker='.')\n",
    "    plt.show()\n",
    "    print(f'TWA = {twa(series, period)}')"
   ]
  },
  {
   "cell_type": "markdown",
   "metadata": {},
   "source": [
    "Say our period for the time weighting is $T$. We could have a situation like this: "
   ]
  },
  {
   "cell_type": "code",
   "execution_count": null,
   "metadata": {},
   "outputs": [],
   "source": [
    "T = 100\n",
    "S = [10*(-1)**i for i in range(T)]\n",
    "display(S, T)"
   ]
  },
  {
   "cell_type": "markdown",
   "metadata": {},
   "source": [
    "Is this a problem? Does the time-weighted-averaging eliminate gaming funding rates in certain ways? What is the right period to average over? Why are we time-averaging?"
   ]
  },
  {
   "cell_type": "markdown",
   "metadata": {},
   "source": [
    "Now, for the funding payment. We have $\\mathrm{FP}_i = k(t_{i-1}, t_i) \\cdot \\mathrm{TWAOI}_{imb}(t_i)$"
   ]
  },
  {
   "cell_type": "markdown",
   "metadata": {},
   "source": [
    "Which means we could have a situation like this (setting $k=1$ for now): "
   ]
  },
  {
   "cell_type": "code",
   "execution_count": null,
   "metadata": {},
   "outputs": [],
   "source": [
    "S = [np.arctan(x) for x in np.arange(-50,50,1)]\n",
    "display(S, T)"
   ]
  },
  {
   "cell_type": "markdown",
   "metadata": {},
   "source": [
    "Here, the imbalance is large to the long side, but the TWA is basically zero so there is no funding. However, this gets quite a bit worse:"
   ]
  },
  {
   "cell_type": "code",
   "execution_count": null,
   "metadata": {},
   "outputs": [],
   "source": [
    "S = [np.arctan(x) for x in np.arange(-95,5,1)]\n",
    "display(S, T)"
   ]
  },
  {
   "cell_type": "markdown",
   "metadata": {},
   "source": [
    "Here, imbalance to the short side for a large period of time, which then shifts to the long side, results in a funding payment from the shorts to the longs! Moreover, the time-averaging has this funding last for awhile. "
   ]
  },
  {
   "cell_type": "code",
   "execution_count": null,
   "metadata": {},
   "outputs": [],
   "source": [
    "long_S = [np.arctan(x) for x in np.arange(-200,200,1)]\n",
    "rolling_twa = [twa(long_S[i:100+i], T) for i in range(3*T)]\n",
    "S = [np.arctan(x) for x in np.arange(-50,50,1)]\n",
    "plt.plot(long_S, label='imbalance')\n",
    "plt.plot([None]*100 + rolling_twa, label='funding rate')\n",
    "plt.axvline(250, alpha=.3, c='k')\n",
    "plt.axhline(0, alpha=.3, c='k')\n",
    "plt.legend()"
   ]
  },
  {
   "cell_type": "markdown",
   "metadata": {},
   "source": [
    "Here, the shorts are paying the longs (increasing the imbalance!) for roughly 50 time steps after the imabalance shifts to the longs. "
   ]
  },
  {
   "cell_type": "markdown",
   "metadata": {},
   "source": [
    "Again, why the time averaging? Can we not do everything instantaneously? Just measure the imbalance at each time step and sum over it? Or, if we cannot escape the need to time-average, can we do some weighting such that the past becomes less important? \n",
    "\n",
    "The time-averaging seems to also make things harder for arbitrageurs, because they can't just jump in when they see an imbalance. They need to know the entire past history of imbalances over the averaging period."
   ]
  },
  {
   "cell_type": "code",
   "execution_count": null,
   "metadata": {},
   "outputs": [],
   "source": []
  },
  {
   "cell_type": "markdown",
   "metadata": {},
   "source": [
    "## Analysis of Portfolio Construction section"
   ]
  },
  {
   "cell_type": "markdown",
   "metadata": {},
   "source": [
    "Note that this is a strong assumption of the foregoing analysis: \n",
    ">I take out a 1x short position on the OVL-ETH Overlay market, locking in the ETH value of my OVL collateral staked to first order in price changes given we use linear contracts.\n",
    "\n",
    "If the OVL-ETH market is saturated with shorts, or has too much leverage, then the entire funding payment mechanism breaks. \n",
    "\n",
    "We discussed this in person."
   ]
  },
  {
   "cell_type": "markdown",
   "metadata": {},
   "source": [
    "The linear funding is probably best. It is simplest. I thought it might be an issue with the funding payment that 100% of the payment goes to offsetting position holders, regardless of the size of the offsetting position. The idea was that if competition between offsetters is low, then the mechanism will not work because with a very small amount of OVL I can collect all the funding. \n",
    "\n",
    "However, this is not right, because the offsetting position, when small, is growing rapidly via the funding payment. When large, it grows more slowly. \n",
    "\n"
   ]
  },
  {
   "cell_type": "code",
   "execution_count": null,
   "metadata": {},
   "outputs": [],
   "source": [
    "def funding(longs, shorts):\n",
    "    return (longs-shorts)"
   ]
  },
  {
   "cell_type": "code",
   "execution_count": null,
   "metadata": {},
   "outputs": [],
   "source": [
    "X = 100 #putative OVL amount long \n",
    "R = np.arange(1,X,1)\n",
    "plt.plot(funding(X, R))\n",
    "plt.ylabel('k received in %')\n",
    "plt.xlabel('position offset in %')\n",
    "plt.show()"
   ]
  },
  {
   "cell_type": "markdown",
   "metadata": {},
   "source": [
    "The above shows the funding as a function (y axis is percentage of k, x is percentage of position offset). We can imagine a different mechanism with dropoff on both sides, not just one: "
   ]
  },
  {
   "cell_type": "code",
   "execution_count": null,
   "metadata": {},
   "outputs": [],
   "source": [
    "def parabolic_funding(imbalance, offset_vol):\n",
    "    return (-(imbalance - (offset_vol*2))**2 +imbalance**2)/imbalance"
   ]
  },
  {
   "cell_type": "code",
   "execution_count": null,
   "metadata": {},
   "outputs": [],
   "source": [
    "X = 100 #putative OVL amount long \n",
    "R = np.arange(1,X,1)\n",
    "plt.plot(parabolic_funding(X, R))\n",
    "plt.ylabel('k received in %')\n",
    "plt.xlabel('position offset in %')\n",
    "plt.show()"
   ]
  },
  {
   "cell_type": "markdown",
   "metadata": {},
   "source": [
    "Instead of setting the floor for competition at .000001, this sets it higher -- possibly at half the imbalance. Can also introduce a skew to the right so funding falls to zero faster as offset approaches imbalance (imbalance goes to zero). For simplicity could nix the parabola and just make it linear, like an A frame."
   ]
  },
  {
   "cell_type": "markdown",
   "metadata": {},
   "source": [
    "How does the imbalance look over time, for a constant offsetting position just harvesting funding? "
   ]
  },
  {
   "cell_type": "code",
   "execution_count": null,
   "metadata": {},
   "outputs": [],
   "source": [
    "def plot_imbalance(fcn=funding, k=.05, _X=100, offsets=[.001,.01, 1, 5,20,50]):\n",
    "\n",
    "    res = defaultdict(list)\n",
    "    for o in offsets:\n",
    "        key = o\n",
    "        X = _X\n",
    "        ores = []\n",
    "        Xres = []\n",
    "        for t in range(100): #100 blocks\n",
    "            ores.append(o)\n",
    "            Xres.append(X)\n",
    "            X -= k*fcn(X,o)\n",
    "            o += k*fcn(X,o)\n",
    "    \n",
    "        plt.plot(Xres, c='r') #label=f'initial position {key}') \n",
    "        #plt.plot(ores, label=f'offsetting position {key}')\n",
    "        plt.plot(np.array(Xres)-np.array(ores), c='k') #label=f'imbalance {key}')\n",
    "    \n",
    "    plt.title(f'k={k}, initial imbalance={_X} \\n various initial offsets: {str(offsets)}')\n",
    "    #plt.legend()\n",
    "    plt.ylabel('OVL')\n",
    "    plt.xlabel('time')\n",
    "    plt.show()\n",
    "    "
   ]
  },
  {
   "cell_type": "code",
   "execution_count": null,
   "metadata": {},
   "outputs": [],
   "source": [
    "plot_imbalance()"
   ]
  },
  {
   "cell_type": "markdown",
   "metadata": {},
   "source": [
    "This shows that the linear payments all have roughly the same result for the imbalance, but that the user experience for those CREATING the imbalance is a night and day difference between losing 20% and almost 50% to funding: DEPENDING ON THE INITIAL OFFSET CHOSEN BY THE ARBITRAGEURS."
   ]
  },
  {
   "cell_type": "code",
   "execution_count": null,
   "metadata": {},
   "outputs": [],
   "source": [
    "plot_imbalance(fcn=parabolic_funding)"
   ]
  },
  {
   "cell_type": "markdown",
   "metadata": {},
   "source": [
    "The user experience for those creating the imbalance varies even more for parabolic funding, because of the possibility of a sudden dropoff. Also, the time required to achieve balance varies more."
   ]
  },
  {
   "cell_type": "markdown",
   "metadata": {},
   "source": [
    "If we are computing funding every block, the value k needs to depend PER MARKET on the oracle update time. Or, we could compute funding per oracle fetch, and have that be the heartbeat for balancing positions. This is important because if we update per block, slow oracles will result in massive funding differences between oracle fetches. \n",
    "\n",
    "In general, we want to avoid the situation where traders don't understand what is going on, or come back to their positions and they've incurred huge, mysterious losses. \n",
    "\n",
    "It seems like a good idea to have the funding mechanism kick in when the imbalance is GREATER than some amount, which is a tunable parameter depending on the risk to the system. "
   ]
  },
  {
   "cell_type": "markdown",
   "metadata": {},
   "source": [
    "The value of k determines how quickly money flows to the offsetting side. Setting this aggressively, we can very quickly siphon off our users' money. The below shows evolution for longs = 100, shorts = .01, with various values of k. "
   ]
  },
  {
   "cell_type": "code",
   "execution_count": null,
   "metadata": {},
   "outputs": [],
   "source": [
    "res = []\n",
    "\n",
    "for k in [.05, .025, .01]:\n",
    "    X = 100\n",
    "    o = .01\n",
    "    ores = []\n",
    "    Xres = []\n",
    "    for t in range(100): #100 blocks\n",
    "        ores.append(o)\n",
    "        Xres.append(X)\n",
    "        X -= k*funding(X,o)\n",
    "        o += k*funding(X,o)\n",
    "    plt.plot(ores, c='g', alpha=k*20)\n",
    "    plt.plot(Xres, c='r', alpha=k*20)\n",
    "plt.show()"
   ]
  },
  {
   "cell_type": "markdown",
   "metadata": {},
   "source": [
    "However, notice the drawdown for the longs in this case. They have lost 50% of their money to funding. Nobody who this happens to will come back. \n",
    "\n",
    "While k controls how quickly funding eliminates imbalance, the initial offsetting volume determines the equilibrium volumes. It may be advisable to set a minimum offsetting position size to gather funding. The above is the rational offsetting risk, (.01 OVL), but if we set the minimum to say 60% of the imbalance, the drawdown for longs is 20%. \n"
   ]
  },
  {
   "cell_type": "code",
   "execution_count": null,
   "metadata": {},
   "outputs": [],
   "source": [
    "res = []\n",
    "\n",
    "for k in [.05, .025, .01]:\n",
    "    X = 100\n",
    "    o = 40\n",
    "    ores = []\n",
    "    Xres = []\n",
    "    for t in range(100): #100 blocks\n",
    "        ores.append(o)\n",
    "        Xres.append(X)\n",
    "        X -= k*funding(X,o)\n",
    "        o += k*funding(X,o)\n",
    "    plt.plot(ores, c='g', alpha=k*20)\n",
    "    plt.plot(Xres, c='r', alpha=k*20)\n",
    "plt.show()"
   ]
  },
  {
   "cell_type": "markdown",
   "metadata": {},
   "source": [
    "## Checking the math "
   ]
  },
  {
   "cell_type": "code",
   "execution_count": null,
   "metadata": {},
   "outputs": [],
   "source": [
    "def PO(n, P_t, P):\n",
    "    return n*(1 - (P_t- P)/P) "
   ]
  },
  {
   "cell_type": "code",
   "execution_count": null,
   "metadata": {},
   "outputs": [],
   "source": [
    "x = 1\n",
    "n = 1\n",
    "assert PO(n, 2*x, x) == 0\n",
    "assert PO(n, 2.0001*x, x) < 0\n",
    "assert PO(n, x, x) == n\n",
    "assert PO(n, .5*x, x) == 1.5*n\n",
    "assert PO(n, .1*x, x) == 1.9*n\n",
    "assert PO(n, 0, x) == 2*n"
   ]
  },
  {
   "cell_type": "code",
   "execution_count": null,
   "metadata": {},
   "outputs": [],
   "source": [
    "R = np.arange(x-3*x,x+3*x,.1) #we let the price go negative\n",
    "plt.plot(PO(n, R, x))\n",
    "plt.show()"
   ]
  },
  {
   "cell_type": "code",
   "execution_count": null,
   "metadata": {},
   "outputs": [],
   "source": [
    "P0 = sp.Symbol('P0')\n",
    "Pt = sp.Symbol('Pt')\n",
    "n = sp.Symbol('n')\n",
    "S = sp.Symbol('S') #this is the SUM term of funding payments\n",
    "\n",
    "eqn = Pt*n*(2 - (Pt/P0 + P0/Pt) + S)\n",
    "eqn"
   ]
  },
  {
   "cell_type": "code",
   "execution_count": null,
   "metadata": {},
   "outputs": [],
   "source": [
    "e = sp.Symbol('e')\n",
    "eqn2 = eqn.subs(Pt, P0*(1+e))\n",
    "eqn2"
   ]
  },
  {
   "cell_type": "code",
   "execution_count": null,
   "metadata": {},
   "outputs": [],
   "source": [
    "eqn2.simplify().factor(S)"
   ]
  },
  {
   "cell_type": "markdown",
   "metadata": {},
   "source": [
    "# Correct!"
   ]
  },
  {
   "cell_type": "markdown",
   "metadata": {},
   "source": [
    "## the next section:"
   ]
  },
  {
   "cell_type": "markdown",
   "metadata": {},
   "source": [
    "This crap is so fiddly and hard to think about I'm writing functions for everything"
   ]
  },
  {
   "cell_type": "code",
   "execution_count": null,
   "metadata": {},
   "outputs": [],
   "source": [
    "#    '''\n",
    "#    px is the price of OVL-ETH, \n",
    "#    if it is > 1, OVL is more valuable than ETH\n",
    "#    '''\n",
    "def fromETH(amt, px):\n",
    "    return amt/px\n",
    "def fromOVL(amt, px):\n",
    "    return amt*px"
   ]
  },
  {
   "cell_type": "code",
   "execution_count": null,
   "metadata": {},
   "outputs": [],
   "source": [
    "fromOVL(100, .15)"
   ]
  },
  {
   "cell_type": "markdown",
   "metadata": {},
   "source": [
    "Say Px of ETH-OVL is .1 so there are 10 OVL in 1 ETH. Say I have 100 OVL (worth 10 ETH). I sell half the OVL for ETH, now I have 50 OVL and 5 ETH. I lock the OVL long to ETH. \n",
    "\n",
    "Two scenarios: px of ETH-OVL goes UP by 50% (so 6.66 OVL in an ETH) or down by 50%, so there are 20 OVL in 1 ETH.\n",
    "\n",
    "In either case I have 5 ETH. \n",
    "\n",
    "In case 1: I have I have 50*1.5 = 75 OVL. The 5 ETH are worth 25 OVL, so I have 100 OVL\n",
    "\n",
    "In case 2: I have 50*.5 = 25 OVL. But 5 ETH = 75 OVL, so still 100 OVL. "
   ]
  },
  {
   "cell_type": "code",
   "execution_count": null,
   "metadata": {},
   "outputs": [],
   "source": [
    "def px_from_ret(px0, ret):\n",
    "    '''get the new price given a return'''\n",
    "    ret = ret/100\n",
    "    return (ret + 1)*px0\n",
    "\n",
    "def pnl(amt, ret):\n",
    "    return amt * (1 + ret/100)\n",
    "\n",
    "p0 = .1\n",
    "N = 100"
   ]
  },
  {
   "cell_type": "code",
   "execution_count": null,
   "metadata": {},
   "outputs": [],
   "source": [
    "assert fromOVL(N/2, p0) == 5\n",
    "assert fromETH(5, p0) == 50\n",
    "assert fromETH(fromOVL(N, p0), p0) == N\n",
    "assert fromOVL(fromETH(N, p0), p0) == N\n",
    "\n",
    "assert np.isclose(px_from_ret(p0, 50), .15)\n",
    "assert np.isclose(px_from_ret(p0, 200), .3)\n",
    "assert np.isclose(px_from_ret(p0, -50), .05)\n",
    "\n",
    "assert pnl(100, 50) == 150\n",
    "assert pnl(100, -50) == 50"
   ]
  },
  {
   "cell_type": "code",
   "execution_count": null,
   "metadata": {},
   "outputs": [],
   "source": [
    "OVL0 = N/2\n",
    "ETH0 = fromOVL(N/2, p0)\n",
    "assert OVL0 + fromETH(ETH0, p0) == N\n",
    "\n",
    "ret = 50\n",
    "p1 = px_from_ret(p0, ret)\n",
    "OVL1 = pnl(OVL0, ret)\n",
    "assert OVL1 == 75\n",
    "OVL2 = fromETH(ETH0, p1)\n",
    "OVL1 + OVL2\n",
    "\n",
    "def PO(N, p0, p1):\n",
    "    return N * (1 + (p1 - p0)/p0)\n",
    "\n",
    "assert PO(N/2, p0, p1) == OVL1\n",
    "\n",
    "def ETH_PO(N, p0, p1):\n",
    "    return N*(p0/p1)\n",
    "\n",
    "assert np.isclose(ETH_PO(N/2, p0, p1), OVL2)\n",
    "\n",
    "def V(N, p0, p1):\n",
    "    return N*(p0/p1 + 1 + (p1-p0)/p0)\n",
    "\n",
    "\n",
    "assert np.isclose(OVL1 + OVL2 ,V(N/2, p0, p1))"
   ]
  },
  {
   "cell_type": "markdown",
   "metadata": {},
   "source": [
    "## Looks good!"
   ]
  },
  {
   "cell_type": "code",
   "execution_count": null,
   "metadata": {},
   "outputs": [],
   "source": [
    "def get_portfolio_value_from_return(N, ret):\n",
    "    OVL0 = N/2\n",
    "    ETH0 = fromOVL(N/2, p0)\n",
    "    p1 = px_from_ret(p0, ret)\n",
    "    OVL1 = pnl(OVL0, ret)\n",
    "    OVL2 = fromETH(ETH0, p1)\n",
    "    return OVL1 + OVL2\n",
    "\n",
    "RETS = np.arange(-50,100,1)\n",
    "\n",
    "P = get_portfolio_value_from_return(N, RETS)\n",
    "\n",
    "plt.plot(P)\n",
    "plt.show()    "
   ]
  },
  {
   "cell_type": "code",
   "execution_count": null,
   "metadata": {},
   "outputs": [],
   "source": []
  },
  {
   "cell_type": "markdown",
   "metadata": {},
   "source": [
    "## some random scratch notes"
   ]
  },
  {
   "cell_type": "markdown",
   "metadata": {},
   "source": [
    "Arbitraging is worthwhile so long as \\\\(S > e^2/(1-e^2) \\\\). Below we plot this for various values of \\\\( e\\\\), keeping in mind that the funding payments must be greater than these values for arbitrageurs to profit"
   ]
  },
  {
   "cell_type": "code",
   "execution_count": null,
   "metadata": {},
   "outputs": [],
   "source": [
    "def f(a, e):\n",
    "    return a*200*e**2/(1-e**2)\n",
    "E = np.arange(-.10,.10,.01)\n",
    "plt.plot(f(1, e=E))\n",
    "plt.axhline(1, c='r')\n",
    "#plt.xticks(ticks=range(len(E)))#, labels=(np.array(range(len(E)))-10)/10)\n",
    "plt.show()"
   ]
  },
  {
   "cell_type": "code",
   "execution_count": null,
   "metadata": {},
   "outputs": [],
   "source": [
    "def get_e(a):\n",
    "    A = 1\n",
    "    B = np.sqrt(1 + 80*a)\n",
    "    C = 40*a\n",
    "    return (A+B)/C, (A-B)/C\n",
    "\n",
    "alphas = np.arange(.1, .9, .1)\n",
    "plt.plot(get_e(alphas))\n",
    "plt.show()"
   ]
  },
  {
   "cell_type": "code",
   "execution_count": null,
   "metadata": {},
   "outputs": [],
   "source": [
    "get_e(.33)"
   ]
  },
  {
   "cell_type": "code",
   "execution_count": null,
   "metadata": {},
   "outputs": [],
   "source": [
    "#def get_k(ell, m):\n",
    "#    return (1 - ell**(1/m))/2\n",
    "\n",
    "#make table \n",
    "#top = ['| pct ']\n",
    "#for ell in np.arange(.1, .9, .1):\n",
    "#    res=['|' + '%.1f' % ell]\n",
    "#    for m in range(1,10):\n",
    "#        #print(ell, m)\n",
    "#        top.append('%.0f' % m)\n",
    "#        res.append('%.3f' % get_k(ell, m))\n",
    "#    if ell == .1 and m == 9:\n",
    "#        print(' | '.join(top), '|')\n",
    "#    print(' | '.join(res), '|')"
   ]
  },
  {
   "cell_type": "code",
   "execution_count": null,
   "metadata": {},
   "outputs": [],
   "source": [
    "# 1+e > 2*a*e**2\n",
    "# 1 > 2*a*e**2 - e\n",
    "# 0 > 2*a*e**2 - e - 1\n",
    "# Need (1+e)/(2*e**2) > a where p = p_0 * (1+e)\n",
    "# If a = 1, then 1 > 2e**2/(1+e) for e < 1 and e > some negative number ..\n",
    "\n",
    "# Find the roots\n",
    "# 0 = 2*a*e**2 - e - 1\n",
    "# e = (1 +/- sqrt(1+8*a))/(4*a)\n",
    "# need e to be < emax and e > emin ...\n",
    "def get_e_roots(a):\n",
    "    A = 1\n",
    "    B = np.sqrt(1+8*a)\n",
    "    C = 4*a\n",
    "    return (A+B)/C, (A-B)/C"
   ]
  },
  {
   "cell_type": "code",
   "execution_count": null,
   "metadata": {},
   "outputs": [],
   "source": [
    "get_e_roots(0.1)"
   ]
  },
  {
   "cell_type": "code",
   "execution_count": null,
   "metadata": {},
   "outputs": [],
   "source": [
    "get_e_roots(0.33)"
   ]
  },
  {
   "cell_type": "code",
   "execution_count": null,
   "metadata": {},
   "outputs": [],
   "source": [
    "get_e_roots(0.5)"
   ]
  },
  {
   "cell_type": "code",
   "execution_count": null,
   "metadata": {},
   "outputs": [],
   "source": []
  }
 ],
 "metadata": {
  "kernelspec": {
   "display_name": "Python 3",
   "language": "python",
   "name": "python3"
  },
  "language_info": {
   "codemirror_mode": {
    "name": "ipython",
    "version": 3
   },
   "file_extension": ".py",
   "mimetype": "text/x-python",
   "name": "python",
   "nbconvert_exporter": "python",
   "pygments_lexer": "ipython3",
   "version": "3.7.4"
  }
 },
 "nbformat": 4,
 "nbformat_minor": 5
}
